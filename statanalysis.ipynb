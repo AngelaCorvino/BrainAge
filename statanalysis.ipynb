{
  "nbformat": 4,
  "nbformat_minor": 0,
  "metadata": {
    "colab": {
      "name": "statanalysis.ipynb",
      "provenance": [],
      "authorship_tag": "ABX9TyPu2WpkyLYy+vt+qyRT0xD9",
      "include_colab_link": true
    },
    "kernelspec": {
      "name": "python3",
      "display_name": "Python 3"
    },
    "language_info": {
      "name": "python"
    }
  },
  "cells": [
    {
      "cell_type": "markdown",
      "metadata": {
        "id": "view-in-github",
        "colab_type": "text"
      },
      "source": [
        "<a href=\"https://colab.research.google.com/github/AngelaCorvino/BrainAge/blob/main/statanalysis.ipynb\" target=\"_parent\"><img src=\"https://colab.research.google.com/assets/colab-badge.svg\" alt=\"Open In Colab\"/></a>"
      ]
    },
    {
      "cell_type": "code",
      "source": [
        "import pandas as pd\n",
        "import matplotlib.pyplot as plt\n",
        "import seaborn as sns\n",
        "import numpy as np\n",
        "import scipy.stats"
      ],
      "metadata": {
        "id": "YL9yWkbCcOgK"
      },
      "execution_count": 1,
      "outputs": []
    },
    {
      "cell_type": "code",
      "execution_count": 2,
      "metadata": {
        "id": "LbPgzKiScHYu"
      },
      "outputs": [],
      "source": [
        "dataset_file = 'https://raw.githubusercontent.com/AngelaCorvino/BrainAge/main/data/FS_features_ABIDE_males.csv'\n",
        "df = pd.read_csv(dataset_file,sep=';')\n",
        "df['Site'] = df.FILE_ID.apply(lambda x: x.split('_')[0])\n",
        "df_ASD=df.loc[df.DX_GROUP==1]\n",
        "df_TD=df.loc[df.DX_GROUP==-1]"
      ]
    },
    {
      "cell_type": "markdown",
      "source": [
        "Define two classes with and age treshold"
      ],
      "metadata": {
        "id": "SvUmWuFrdWuW"
      }
    },
    {
      "cell_type": "code",
      "source": [
        "df_TD[df_TD.CSF_Volume_mm3>0].hist('CSF_Volume_mm3')\n",
        "df_TD = df_TD[df_TD.CSF_Volume_mm3>0]\n",
        "df_TD1 = df_TD[df_TD.CSF_Volume_mm3<950]\n",
        "df_TD2 = df_TD[df_TD.CSF_Volume_mm3>950]\n",
        "print(df_TD1.shape,df_TD2.shape)"
      ],
      "metadata": {
        "colab": {
          "base_uri": "https://localhost:8080/",
          "height": 318
        },
        "id": "4-6fCKi0ddje",
        "outputId": "f994c32a-900a-4850-c349-80f22f3b584f"
      },
      "execution_count": 8,
      "outputs": [
        {
          "output_type": "stream",
          "name": "stdout",
          "text": [
            "(246, 425) (218, 425)\n"
          ]
        },
        {
          "output_type": "display_data",
          "data": {
            "text/plain": [
              "<Figure size 432x288 with 1 Axes>"
            ],
            "image/png": "[encoded data removed]"
          },
          "metadata": {
            "needs_background": "light"
          }
        }
      ]
    },
    {
      "cell_type": "markdown",
      "source": [
        "# Permutation test"
      ],
      "metadata": {
        "id": "rw75VXtJegM9"
      }
    },
    {
      "cell_type": "code",
      "source": [
        "\n",
        "Avg_obs_diff =df_TD1.mean()-df_TD2.mean()\n",
        "Avg_obs_diff "
      ],
      "metadata": {
        "colab": {
          "base_uri": "https://localhost:8080/"
        },
        "id": "mX6Hw5eVelEs",
        "outputId": "3e7a7c59-7d08-4f59-d361-133cbc00ee67"
      },
      "execution_count": 9,
      "outputs": [
        {
          "output_type": "stream",
          "name": "stderr",
          "text": [
            "/usr/local/lib/python3.7/dist-packages/ipykernel_launcher.py:2: FutureWarning: Dropping of nuisance columns in DataFrame reductions (with 'numeric_only=None') is deprecated; in a future version this will raise TypeError.  Select only valid columns before calling the reduction.\n",
            "  \n"
          ]
        },
        {
          "output_type": "execute_result",
          "data": {
            "text/plain": [
              "AGE_AT_SCAN                               -3.382055\n",
              "SEX                                        0.000000\n",
              "FIQ                                       -6.619658\n",
              "DX_GROUP                                   0.000000\n",
              "lh_caudalanteriorcingulate_SurfArea      -57.686134\n",
              "                                           ...     \n",
              "lhCortexVol                            -1568.194092\n",
              "rhCortexVol                            -1833.198669\n",
              "lhCerebralWhiteMatterVol              -16174.583177\n",
              "rhCerebralWhiteMatterVol              -16418.056155\n",
              "TotalGrayVol                           -9180.643189\n",
              "Length: 423, dtype: float64"
            ]
          },
          "metadata": {},
          "execution_count": 9
        }
      ]
    },
    {
      "cell_type": "markdown",
      "source": [
        "## Evaluation of the empirical $p$-value\n",
        "\n",
        "We want to know if the CSF volume can be a good variable to describe the age of an healthy subject\n",
        "\n",
        "How many of the null means are bigger than the observed value? That proportion would be the $p$-value for the null hypothesis.\n",
        "\n",
        "$p = \\frac{r+1}{N+1}$\n",
        "\n",
        "where $N$ is the number of permutations and r is the number of times that $t_i > t_{obs}$ \n",
        "\n",
        "We add a 1 to the numerator and denominator to account for misestimation of the p-value (see the reference \"Permutation p-values should never be zero: calculating exact P-values when permutations are randomly drawn\" https://pubmed.ncbi.nlm.nih.gov/21044043/ )"
      ],
      "metadata": {
        "id": "2WArPveBcxUN"
      }
    }
  ]
}