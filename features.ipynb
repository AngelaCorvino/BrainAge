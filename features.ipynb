{
  "nbformat": 4,
  "nbformat_minor": 0,
  "metadata": {
    "colab": {
      "name": "features.ipynb",
      "provenance": [],
      "collapsed_sections": [],
      "include_colab_link": true
    },
    "kernelspec": {
      "name": "python3",
      "display_name": "Python 3"
    },
    "language_info": {
      "name": "python"
    }
  },
  "cells": [
    {
      "cell_type": "markdown",
      "metadata": {
        "id": "view-in-github",
        "colab_type": "text"
      },
      "source": [
        "<a href=\"https://colab.research.google.com/github/AngelaCorvino/BrainAge/blob/main/features.ipynb\" target=\"_parent\"><img src=\"https://colab.research.google.com/assets/colab-badge.svg\" alt=\"Open In Colab\"/></a>"
      ]
    },
    {
      "cell_type": "markdown",
      "source": [
        "# **Data exploration and analysis**\n",
        "\n",
        "We explore a data sample and carry out a basic statistical data analysis.\n",
        "The data consists in a table containing the brain features computed by means of the FreeSurfer segmentation software for the ABIDE I data cohort."
      ],
      "metadata": {
        "id": "Zm0WMXLCDXc_"
      }
    },
    {
      "cell_type": "code",
      "execution_count": 2,
      "metadata": {
        "id": "9kC01J73-qgM"
      },
      "outputs": [],
      "source": [
        "import pandas as pd\n",
        "import matplotlib.pyplot as plt\n",
        "import seaborn as sns\n",
        "import numpy as np\n",
        "import scipy.stats"
      ]
    },
    {
      "cell_type": "markdown",
      "source": [
        "# ** Reading the data set**\n",
        "\n",
        "We have to read a pandas DataFrame table where each of the 915 row corresponds to a different subject and the 424 columns (419 brain features) contain descriptive characteristics of each subjects (e.g. age, IQ, morphometric brain features). "
      ],
      "metadata": {
        "id": "Ft0jFSgAD7LN"
      }
    },
    {
      "cell_type": "code",
      "source": [
        "dataset_file = 'https://raw.githubusercontent.com/AngelaCorvino/BrainAge/main/data/FS_features_ABIDE_males.csv'\n",
        "df = pd.read_csv(dataset_file,sep=';')\n",
        "df.size\n",
        "df.shape\n",
        "df.head(5)"
      ],
      "metadata": {
        "id": "Em2d_D6jD9Mb",
        "colab": {
          "base_uri": "https://localhost:8080/",
          "height": 293
        },
        "outputId": "580d6829-81d1-4d04-e680-fcf95bf4bf82"
      },
      "execution_count": 3,
      "outputs": [
        {
          "output_type": "execute_result",
          "data": {
            "text/plain": [
              "           FILE_ID  AGE_AT_SCAN  SEX    FIQ  DX_GROUP  \\\n",
              "0  Caltech_0051456         55.4    1  126.0         1   \n",
              "1  Caltech_0051457         22.9    1  107.0         1   \n",
              "2  Caltech_0051458         39.2    1   93.0         1   \n",
              "3  Caltech_0051459         22.8    1  106.0         1   \n",
              "4  Caltech_0051461         37.7    1   99.0         1   \n",
              "\n",
              "   lh_caudalanteriorcingulate_SurfArea  lh_caudalanteriorcingulate_GrayVol  \\\n",
              "0                                  909                                2684   \n",
              "1                                 1425                                4623   \n",
              "2                                 1205                                3940   \n",
              "3                                 1413                                4711   \n",
              "4                                  875                                2270   \n",
              "\n",
              "   lh_caudalanteriorcingulate_ThickAvg  lh_caudalanteriorcingulate_ThickStd  \\\n",
              "0                                2.918                                0.481   \n",
              "1                                3.046                                0.543   \n",
              "2                                2.987                                0.423   \n",
              "3                                2.879                                0.587   \n",
              "4                                2.473                                0.475   \n",
              "\n",
              "   lh_caudalanteriorcingulate_MeanCurv  ...  CC_Mid_Anterior_Volume_mm3  \\\n",
              "0                                0.134  ...                       788.7   \n",
              "1                                0.116  ...                       907.3   \n",
              "2                                0.104  ...                       964.2   \n",
              "3                                0.120  ...                       811.0   \n",
              "4                                0.104  ...                       844.8   \n",
              "\n",
              "   CC_Anterior_Volume_mm3  lh_MeanThickness  rh_MeanThickness  \\\n",
              "0                   929.8           2.52039           2.52379   \n",
              "1                  1066.6           2.55533           2.56998   \n",
              "2                  1104.3           2.64518           2.63160   \n",
              "3                  1056.7           2.70814           2.72762   \n",
              "4                  1015.4           2.59002           2.61012   \n",
              "\n",
              "   VentricleChoroidVol  lhCortexVol  rhCortexVol  lhCerebralWhiteMatterVol  \\\n",
              "0                42065  258703.4443  262670.1207               262254.9768   \n",
              "1                28505  321132.1284  317004.7945               304528.2513   \n",
              "2                13383  266418.9917  266456.1701               271683.1723   \n",
              "3                 6849  307157.4469  310540.0389               258618.7918   \n",
              "4                73159  263932.5269  269417.2519               242330.5838   \n",
              "\n",
              "   rhCerebralWhiteMatterVol  TotalGrayVol  \n",
              "0               265741.1295   701211.5651  \n",
              "1               301555.0187   841485.9229  \n",
              "2               266494.7088   726728.1619  \n",
              "3               255480.2694   794676.4859  \n",
              "4               232809.9268   714122.7788  \n",
              "\n",
              "[5 rows x 424 columns]"
            ],
            "text/html": [
              "\n",
              "  <div id=\"df-111204bf-3c9f-4945-b2a9-d0688e846e0c\">\n",
              "    <div class=\"colab-df-container\">\n",
              "      <div>\n",
              "<style scoped>\n",
              "    .dataframe tbody tr th:only-of-type {\n",
              "        vertical-align: middle;\n",
              "    }\n",
              "\n",
              "    .dataframe tbody tr th {\n",
              "        vertical-align: top;\n",
              "    }\n",
              "\n",
              "    .dataframe thead th {\n",
              "        text-align: right;\n",
              "    }\n",
              "</style>\n",
              "<table border=\"1\" class=\"dataframe\">\n",
              "  <thead>\n",
              "    <tr style=\"text-align: right;\">\n",
              "      <th></th>\n",
              "      <th>FILE_ID</th>\n",
              "      <th>AGE_AT_SCAN</th>\n",
              "      <th>SEX</th>\n",
              "      <th>FIQ</th>\n",
              "      <th>DX_GROUP</th>\n",
              "      <th>lh_caudalanteriorcingulate_SurfArea</th>\n",
              "      <th>lh_caudalanteriorcingulate_GrayVol</th>\n",
              "      <th>lh_caudalanteriorcingulate_ThickAvg</th>\n",
              "      <th>lh_caudalanteriorcingulate_ThickStd</th>\n",
              "      <th>lh_caudalanteriorcingulate_MeanCurv</th>\n",
              "      <th>...</th>\n",
              "      <th>CC_Mid_Anterior_Volume_mm3</th>\n",
              "      <th>CC_Anterior_Volume_mm3</th>\n",
              "      <th>lh_MeanThickness</th>\n",
              "      <th>rh_MeanThickness</th>\n",
              "      <th>VentricleChoroidVol</th>\n",
              "      <th>lhCortexVol</th>\n",
              "      <th>rhCortexVol</th>\n",
              "      <th>lhCerebralWhiteMatterVol</th>\n",
              "      <th>rhCerebralWhiteMatterVol</th>\n",
              "      <th>TotalGrayVol</th>\n",
              "    </tr>\n",
              "  </thead>\n",
              "  <tbody>\n",
              "    <tr>\n",
              "      <th>0</th>\n",
              "      <td>Caltech_0051456</td>\n",
              "      <td>55.4</td>\n",
              "      <td>1</td>\n",
              "      <td>126.0</td>\n",
              "      <td>1</td>\n",
              "      <td>909</td>\n",
              "      <td>2684</td>\n",
              "      <td>2.918</td>\n",
              "      <td>0.481</td>\n",
              "      <td>0.134</td>\n",
              "      <td>...</td>\n",
              "      <td>788.7</td>\n",
              "      <td>929.8</td>\n",
              "      <td>2.52039</td>\n",
              "      <td>2.52379</td>\n",
              "      <td>42065</td>\n",
              "      <td>258703.4443</td>\n",
              "      <td>262670.1207</td>\n",
              "      <td>262254.9768</td>\n",
              "      <td>265741.1295</td>\n",
              "      <td>701211.5651</td>\n",
              "    </tr>\n",
              "    <tr>\n",
              "      <th>1</th>\n",
              "      <td>Caltech_0051457</td>\n",
              "      <td>22.9</td>\n",
              "      <td>1</td>\n",
              "      <td>107.0</td>\n",
              "      <td>1</td>\n",
              "      <td>1425</td>\n",
              "      <td>4623</td>\n",
              "      <td>3.046</td>\n",
              "      <td>0.543</td>\n",
              "      <td>0.116</td>\n",
              "      <td>...</td>\n",
              "      <td>907.3</td>\n",
              "      <td>1066.6</td>\n",
              "      <td>2.55533</td>\n",
              "      <td>2.56998</td>\n",
              "      <td>28505</td>\n",
              "      <td>321132.1284</td>\n",
              "      <td>317004.7945</td>\n",
              "      <td>304528.2513</td>\n",
              "      <td>301555.0187</td>\n",
              "      <td>841485.9229</td>\n",
              "    </tr>\n",
              "    <tr>\n",
              "      <th>2</th>\n",
              "      <td>Caltech_0051458</td>\n",
              "      <td>39.2</td>\n",
              "      <td>1</td>\n",
              "      <td>93.0</td>\n",
              "      <td>1</td>\n",
              "      <td>1205</td>\n",
              "      <td>3940</td>\n",
              "      <td>2.987</td>\n",
              "      <td>0.423</td>\n",
              "      <td>0.104</td>\n",
              "      <td>...</td>\n",
              "      <td>964.2</td>\n",
              "      <td>1104.3</td>\n",
              "      <td>2.64518</td>\n",
              "      <td>2.63160</td>\n",
              "      <td>13383</td>\n",
              "      <td>266418.9917</td>\n",
              "      <td>266456.1701</td>\n",
              "      <td>271683.1723</td>\n",
              "      <td>266494.7088</td>\n",
              "      <td>726728.1619</td>\n",
              "    </tr>\n",
              "    <tr>\n",
              "      <th>3</th>\n",
              "      <td>Caltech_0051459</td>\n",
              "      <td>22.8</td>\n",
              "      <td>1</td>\n",
              "      <td>106.0</td>\n",
              "      <td>1</td>\n",
              "      <td>1413</td>\n",
              "      <td>4711</td>\n",
              "      <td>2.879</td>\n",
              "      <td>0.587</td>\n",
              "      <td>0.120</td>\n",
              "      <td>...</td>\n",
              "      <td>811.0</td>\n",
              "      <td>1056.7</td>\n",
              "      <td>2.70814</td>\n",
              "      <td>2.72762</td>\n",
              "      <td>6849</td>\n",
              "      <td>307157.4469</td>\n",
              "      <td>310540.0389</td>\n",
              "      <td>258618.7918</td>\n",
              "      <td>255480.2694</td>\n",
              "      <td>794676.4859</td>\n",
              "    </tr>\n",
              "    <tr>\n",
              "      <th>4</th>\n",
              "      <td>Caltech_0051461</td>\n",
              "      <td>37.7</td>\n",
              "      <td>1</td>\n",
              "      <td>99.0</td>\n",
              "      <td>1</td>\n",
              "      <td>875</td>\n",
              "      <td>2270</td>\n",
              "      <td>2.473</td>\n",
              "      <td>0.475</td>\n",
              "      <td>0.104</td>\n",
              "      <td>...</td>\n",
              "      <td>844.8</td>\n",
              "      <td>1015.4</td>\n",
              "      <td>2.59002</td>\n",
              "      <td>2.61012</td>\n",
              "      <td>73159</td>\n",
              "      <td>263932.5269</td>\n",
              "      <td>269417.2519</td>\n",
              "      <td>242330.5838</td>\n",
              "      <td>232809.9268</td>\n",
              "      <td>714122.7788</td>\n",
              "    </tr>\n",
              "  </tbody>\n",
              "</table>\n",
              "<p>5 rows × 424 columns</p>\n",
              "</div>\n",
              "      <button class=\"colab-df-convert\" onclick=\"convertToInteractive('df-111204bf-3c9f-4945-b2a9-d0688e846e0c')\"\n",
              "              title=\"Convert this dataframe to an interactive table.\"\n",
              "              style=\"display:none;\">\n",
              "        \n",
              "  <svg xmlns=\"http://www.w3.org/2000/svg\" height=\"24px\"viewBox=\"0 0 24 24\"\n",
              "       width=\"24px\">\n",
              "    <path d=\"M0 0h24v24H0V0z\" fill=\"none\"/>\n",
              "    <path d=\"M18.56 5.44l.94 2.06.94-2.06 2.06-.94-2.06-.94-.94-2.06-.94 2.06-2.06.94zm-11 1L8.5 8.5l.94-2.06 2.06-.94-2.06-.94L8.5 2.5l-.94 2.06-2.06.94zm10 10l.94 2.06.94-2.06 2.06-.94-2.06-.94-.94-2.06-.94 2.06-2.06.94z\"/><path d=\"M17.41 7.96l-1.37-1.37c-.4-.4-.92-.59-1.43-.59-.52 0-1.04.2-1.43.59L10.3 9.45l-7.72 7.72c-.78.78-.78 2.05 0 2.83L4 21.41c.39.39.9.59 1.41.59.51 0 1.02-.2 1.41-.59l7.78-7.78 2.81-2.81c.8-.78.8-2.07 0-2.86zM5.41 20L4 18.59l7.72-7.72 1.47 1.35L5.41 20z\"/>\n",
              "  </svg>\n",
              "      </button>\n",
              "      \n",
              "  <style>\n",
              "    .colab-df-container {\n",
              "      display:flex;\n",
              "      flex-wrap:wrap;\n",
              "      gap: 12px;\n",
              "    }\n",
              "\n",
              "    .colab-df-convert {\n",
              "      background-color: #E8F0FE;\n",
              "      border: none;\n",
              "      border-radius: 50%;\n",
              "      cursor: pointer;\n",
              "      display: none;\n",
              "      fill: #1967D2;\n",
              "      height: 32px;\n",
              "      padding: 0 0 0 0;\n",
              "      width: 32px;\n",
              "    }\n",
              "\n",
              "    .colab-df-convert:hover {\n",
              "      background-color: #E2EBFA;\n",
              "      box-shadow: 0px 1px 2px rgba(60, 64, 67, 0.3), 0px 1px 3px 1px rgba(60, 64, 67, 0.15);\n",
              "      fill: #174EA6;\n",
              "    }\n",
              "\n",
              "    [theme=dark] .colab-df-convert {\n",
              "      background-color: #3B4455;\n",
              "      fill: #D2E3FC;\n",
              "    }\n",
              "\n",
              "    [theme=dark] .colab-df-convert:hover {\n",
              "      background-color: #434B5C;\n",
              "      box-shadow: 0px 1px 3px 1px rgba(0, 0, 0, 0.15);\n",
              "      filter: drop-shadow(0px 1px 2px rgba(0, 0, 0, 0.3));\n",
              "      fill: #FFFFFF;\n",
              "    }\n",
              "  </style>\n",
              "\n",
              "      <script>\n",
              "        const buttonEl =\n",
              "          document.querySelector('#df-111204bf-3c9f-4945-b2a9-d0688e846e0c button.colab-df-convert');\n",
              "        buttonEl.style.display =\n",
              "          google.colab.kernel.accessAllowed ? 'block' : 'none';\n",
              "\n",
              "        async function convertToInteractive(key) {\n",
              "          const element = document.querySelector('#df-111204bf-3c9f-4945-b2a9-d0688e846e0c');\n",
              "          const dataTable =\n",
              "            await google.colab.kernel.invokeFunction('convertToInteractive',\n",
              "                                                     [key], {});\n",
              "          if (!dataTable) return;\n",
              "\n",
              "          const docLinkHtml = 'Like what you see? Visit the ' +\n",
              "            '<a target=\"_blank\" href=https://colab.research.google.com/notebooks/data_table.ipynb>data table notebook</a>'\n",
              "            + ' to learn more about interactive tables.';\n",
              "          element.innerHTML = '';\n",
              "          dataTable['output_type'] = 'display_data';\n",
              "          await google.colab.output.renderOutput(dataTable, element);\n",
              "          const docLink = document.createElement('div');\n",
              "          docLink.innerHTML = docLinkHtml;\n",
              "          element.appendChild(docLink);\n",
              "        }\n",
              "      </script>\n",
              "    </div>\n",
              "  </div>\n",
              "  "
            ]
          },
          "metadata": {},
          "execution_count": 3
        }
      ]
    },
    {
      "cell_type": "markdown",
      "source": [
        "Adding a feature \"Site\" which is the acquisition site"
      ],
      "metadata": {
        "id": "IuZxekwyNdgj"
      }
    },
    {
      "cell_type": "code",
      "source": [
        "df.FILE_ID\n",
        "df.FILE_ID[0].split('_')[0]\n",
        "df['Site'] = df.FILE_ID.apply(lambda x: x.split('_')[0])\n",
        "df.size\n",
        "df.shape"
      ],
      "metadata": {
        "id": "gjPlCS0ANc7k",
        "colab": {
          "base_uri": "https://localhost:8080/"
        },
        "outputId": "bf558a09-2f13-4b0b-8e59-856e7aefd518"
      },
      "execution_count": null,
      "outputs": [
        {
          "output_type": "execute_result",
          "data": {
            "text/plain": [
              "(915, 425)"
            ]
          },
          "metadata": {},
          "execution_count": 5
        }
      ]
    },
    {
      "cell_type": "markdown",
      "source": [
        "\\Dividing the data set in ASD and TD and check their shape\n"
      ],
      "metadata": {
        "id": "dp5BbHZ1RNz0"
      }
    },
    {
      "cell_type": "code",
      "source": [
        "df_ASD=df.loc[df.DX_GROUP==1]\n",
        "df_TD=df.loc[df.DX_GROUP==-1]\n",
        "df_ASD.size\n",
        "df_TD.shape"
      ],
      "metadata": {
        "id": "oPqSRyakRQ_N",
        "colab": {
          "base_uri": "https://localhost:8080/"
        },
        "outputId": "96a091cd-b0cf-4676-b39b-a99a03f32a92"
      },
      "execution_count": null,
      "outputs": [
        {
          "output_type": "execute_result",
          "data": {
            "text/plain": [
              "(464, 425)"
            ]
          },
          "metadata": {},
          "execution_count": 6
        }
      ]
    },
    {
      "cell_type": "markdown",
      "source": [
        "# **# Representing data**\n",
        "We are going to analize the TD dataset"
      ],
      "metadata": {
        "id": "C5Jxj_FDVmPI"
      }
    },
    {
      "cell_type": "markdown",
      "source": [
        "# **Histograms**\n",
        "\n",
        "By convention, in this dataset missing values in the FIQ column are indicated as either -9999 or 0 so we mask them "
      ],
      "metadata": {
        "id": "4s_ztB9VVuJM"
      }
    },
    {
      "cell_type": "code",
      "source": [
        "df_TD[df_TD.FIQ>0].hist('FIQ')\n",
        "df_TD.hist(['AGE_AT_SCAN'])"
      ],
      "metadata": {
        "id": "tW9fdm0EVvfS",
        "colab": {
          "base_uri": "https://localhost:8080/",
          "height": 599
        },
        "outputId": "d7778699-7483-4442-8cd4-7837da192072"
      },
      "execution_count": null,
      "outputs": [
        {
          "output_type": "execute_result",
          "data": {
            "text/plain": [
              "array([[<matplotlib.axes._subplots.AxesSubplot object at 0x7fea4d7387d0>]],\n",
              "      dtype=object)"
            ]
          },
          "metadata": {},
          "execution_count": 9
        },
        {
          "output_type": "display_data",
          "data": {
            "text/plain": [
              "<Figure size 432x288 with 1 Axes>"
            ],
            "image/png": "[encoded data removed]"
          },
          "metadata": {
            "needs_background": "light"
          }
        },
        {
          "output_type": "display_data",
          "data": {
            "text/plain": [
              "<Figure size 432x288 with 1 Axes>"
            ],
            "image/png": "[encoded data removed]"
          },
          "metadata": {
            "needs_background": "light"
          }
        }
      ]
    },
    {
      "cell_type": "markdown",
      "source": [
        "# Boxplots\n",
        "We can make a boxplot representing the age values for each acquisition site."
      ],
      "metadata": {
        "id": "pGv7Ed4HWkqj"
      }
    },
    {
      "cell_type": "code",
      "source": [
        "boxplot = df_TD.boxplot(column=['AGE_AT_SCAN'], by='Site', showfliers=False)\n",
        "boxplot.set_title('Box plot of subject\\'s age at scan')\n",
        "boxplot.get_figure().suptitle('');\n",
        "boxplot.set_ylabel('Age [y]')\n",
        "boxplot.set_xticklabels(labels=boxplot.get_xticklabels(), rotation=50);"
      ],
      "metadata": {
        "id": "WM1ZftIAW347",
        "colab": {
          "base_uri": "https://localhost:8080/",
          "height": 376
        },
        "outputId": "33c94ae2-3684-4b10-f873-22ce234fcd51"
      },
      "execution_count": null,
      "outputs": [
        {
          "output_type": "stream",
          "name": "stderr",
          "text": [
            "/usr/local/lib/python3.7/dist-packages/matplotlib/cbook/__init__.py:1376: VisibleDeprecationWarning: Creating an ndarray from ragged nested sequences (which is a list-or-tuple of lists-or-tuples-or ndarrays with different lengths or shapes) is deprecated. If you meant to do this, you must specify 'dtype=object' when creating the ndarray.\n",
            "  X = np.atleast_1d(X.T if isinstance(X, np.ndarray) else np.asarray(X))\n"
          ]
        },
        {
          "output_type": "display_data",
          "data": {
            "text/plain": [
              "<Figure size 432x288 with 1 Axes>"
            ],
            "image/png": "[encoded data removed]"
          },
          "metadata": {
            "needs_background": "light"
          }
        }
      ]
    },
    {
      "cell_type": "code",
      "source": [
        "sns_boxplot = sns.boxplot(x='Site', y='AGE_AT_SCAN', data=df_TD)\n",
        "sns_boxplot.set_xticklabels(labels=boxplot.get_xticklabels(), rotation=50);\n",
        "sns_boxplot.grid()"
      ],
      "metadata": {
        "id": "LVFZwikLXPoq",
        "colab": {
          "base_uri": "https://localhost:8080/",
          "height": 328
        },
        "outputId": "12bb493d-ae4c-4d56-fb92-edbb3387bf09"
      },
      "execution_count": null,
      "outputs": [
        {
          "output_type": "display_data",
          "data": {
            "text/plain": [
              "<Figure size 432x288 with 1 Axes>"
            ],
            "image/png": "[encoded data removed]"
          },
          "metadata": {
            "needs_background": "light"
          }
        }
      ]
    },
    {
      "cell_type": "code",
      "source": [
        "df_TD[df_TD.CSF_Volume_mm3>0].hist('CSF_Volume_mm3')\n",
        "df_ASD[df_ASD.CSF_Volume_mm3>0].hist('CSF_Volume_mm3')\n",
        "sns_boxplot = sns.boxplot(x='CSF_Volume_mm3', y='CSF_Volume_mm3', data=df_TD)\n",
        "#sns_boxplot.set_xticklabels(labels=boxplot.get_xticklabels(), rotation=50);\n",
        "#sns_boxplot.grid()"
      ],
      "metadata": {
        "id": "vXlE3TAdPY2Z",
        "colab": {
          "base_uri": "https://localhost:8080/",
          "height": 580
        },
        "outputId": "a2c86311-9e17-441c-b5a5-d99b268c8c4b"
      },
      "execution_count": null,
      "outputs": [
        {
          "output_type": "display_data",
          "data": {
            "text/plain": [
              "<Figure size 432x288 with 1 Axes>"
            ],
            "image/png": "[encoded data removed]"
          },
          "metadata": {
            "needs_background": "light"
          }
        },
        {
          "output_type": "display_data",
          "data": {
            "text/plain": [
              "<Figure size 432x288 with 1 Axes>"
            ],
            "image/png": "[encoded data removed]"
          },
          "metadata": {
            "needs_background": "light"
          }
        }
      ]
    },
    {
      "cell_type": "markdown",
      "source": [
        "# **Basic data analysis**"
      ],
      "metadata": {
        "id": "P-lfv2awX3-J"
      }
    },
    {
      "cell_type": "markdown",
      "source": [
        " First of all we have to check for normality of our data distributions. We can use the scipy.stats.normaltest which test whether a sample differs from a normal distribution. This function tests the null hypothesis that a sample comes from a normal distribution\n",
        "\n",
        " In case the assumption of normality is not satisfied for a specific sample, non parametric tests to compare two samples can be carried out: • Wilcoxon-Mann-Whitney tests if two samples come from the same population"
      ],
      "metadata": {
        "id": "dUzY1Z4rClz8"
      }
    },
    {
      "cell_type": "code",
      "source": [
        "k2, p_asd = scipy.stats.normaltest(df_ASD.AGE_AT_SCAN)\n",
        "k2, p_ctr = scipy.stats.normaltest(df_TD.AGE_AT_SCAN)\n",
        "print(p_asd, p_ctr)\n",
        "test_res = scipy.stats.mannwhitneyu(df_ASD.AGE_AT_SCAN, df_TD.AGE_AT_SCAN)\n",
        "test_res"
      ],
      "metadata": {
        "id": "HPLHxSwhCqSo",
        "colab": {
          "base_uri": "https://localhost:8080/"
        },
        "outputId": "00220b03-c814-49ad-9ee1-08f5733e2776"
      },
      "execution_count": null,
      "outputs": [
        {
          "output_type": "stream",
          "name": "stdout",
          "text": [
            "7.754904468505647e-42 4.366359373856672e-28\n"
          ]
        },
        {
          "output_type": "execute_result",
          "data": {
            "text/plain": [
              "MannwhitneyuResult(statistic=102278.5, pvalue=0.27801919589384394)"
            ]
          },
          "metadata": {},
          "execution_count": 7
        }
      ]
    },
    {
      "cell_type": "markdown",
      "source": [
        "We can do the same analysis for the FIQ. First we have to remove from the dataframes the entries with FIQ = -9999."
      ],
      "metadata": {
        "id": "H5ZCsadVDdZ_"
      }
    },
    {
      "cell_type": "code",
      "source": [
        "df_ASD = df_ASD[df_ASD.FIQ >0]\n",
        "df_TD = df_TD[df_TD.FIQ >0]\n",
        "k2, p_asd = scipy.stats.normaltest(df_ASD.FIQ)\n",
        "k2, p_ctr = scipy.stats.normaltest(df_TD.FIQ)\n",
        "print(p_asd, p_ctr)\n",
        "\n",
        "#test_res = scipy.stats.ttest_ind(df_ASD.FIQ, df_TD.FIQ)\n",
        "test_res"
      ],
      "metadata": {
        "id": "6HQy17Je7ubC"
      },
      "execution_count": null,
      "outputs": []
    },
    {
      "cell_type": "markdown",
      "source": [
        "# Finding outliers in the distributions"
      ],
      "metadata": {
        "id": "Rl5AFIaRYC03"
      }
    },
    {
      "cell_type": "markdown",
      "source": [
        "# Correlations among variables"
      ],
      "metadata": {
        "id": "dGNJ83-S8ZHk"
      }
    }
  ]
}