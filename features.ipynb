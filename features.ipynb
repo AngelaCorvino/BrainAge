{
  "nbformat": 4,
  "nbformat_minor": 0,
  "metadata": {
    "colab": {
      "name": "features.ipynb",
      "provenance": [],
      "collapsed_sections": [],
      "include_colab_link": true
    },
    "kernelspec": {
      "name": "python3",
      "display_name": "Python 3"
    },
    "language_info": {
      "name": "python"
    }
  },
  "cells": [
    {
      "cell_type": "markdown",
      "metadata": {
        "id": "view-in-github",
        "colab_type": "text"
      },
      "source": [
        "<a href=\"https://colab.research.google.com/github/AngelaCorvino/BrainAge/blob/main/features.ipynb\" target=\"_parent\"><img src=\"https://colab.research.google.com/assets/colab-badge.svg\" alt=\"Open In Colab\"/></a>"
      ]
    },
    {
      "cell_type": "markdown",
      "source": [
        "# **Data exploration and analysis**\n",
        "\n",
        "We explore a data sample and carry out a basic statistical data analysis.\n",
        "The data consists in a table containing the brain features computed by means of the FreeSurfer segmentation software for the ABIDE I data cohort."
      ],
      "metadata": {
        "id": "Zm0WMXLCDXc_"
      }
    },
    {
      "cell_type": "code",
      "execution_count": 1,
      "metadata": {
        "id": "9kC01J73-qgM"
      },
      "outputs": [],
      "source": [
        "import pandas as pd\n",
        "import matplotlib.pyplot as plt\n",
        "import seaborn as sns\n",
        "import numpy as np\n",
        "import scipy.stats"
      ]
    },
    {
      "cell_type": "markdown",
      "source": [
        "# ** Reading the data set**\n",
        "\n",
        "We have to read a pandas DataFrame table where each of the 915 row corresponds to a different subject and the 424 columns (419 brain features) contain descriptive characteristics of each subjects (e.g. age, IQ, morphometric brain features). "
      ],
      "metadata": {
        "id": "Ft0jFSgAD7LN"
      }
    },
    {
      "cell_type": "code",
      "source": [
        "dataset_file = 'https://raw.githubusercontent.com/AngelaCorvino/BrainAge/main/data/FS_features_ABIDE_males.csv'\n",
        "df = pd.read_csv(dataset_file,sep=';')\n",
        "df.size\n",
        "df.shape\n",
        "df.head(5)"
      ],
      "metadata": {
        "id": "Em2d_D6jD9Mb",
        "colab": {
          "base_uri": "https://localhost:8080/",
          "height": 293
        },
        "outputId": "a1bea30d-3e08-415e-c3fb-fc2de1b7dc0d"
      },
      "execution_count": 2,
      "outputs": [
        {
          "output_type": "execute_result",
          "data": {
            "text/plain": [
              "           FILE_ID  AGE_AT_SCAN  SEX    FIQ  DX_GROUP  \\\n",
              "0  Caltech_0051456         55.4    1  126.0         1   \n",
              "1  Caltech_0051457         22.9    1  107.0         1   \n",
              "2  Caltech_0051458         39.2    1   93.0         1   \n",
              "3  Caltech_0051459         22.8    1  106.0         1   \n",
              "4  Caltech_0051461         37.7    1   99.0         1   \n",
              "\n",
              "   lh_caudalanteriorcingulate_SurfArea  lh_caudalanteriorcingulate_GrayVol  \\\n",
              "0                                  909                                2684   \n",
              "1                                 1425                                4623   \n",
              "2                                 1205                                3940   \n",
              "3                                 1413                                4711   \n",
              "4                                  875                                2270   \n",
              "\n",
              "   lh_caudalanteriorcingulate_ThickAvg  lh_caudalanteriorcingulate_ThickStd  \\\n",
              "0                                2.918                                0.481   \n",
              "1                                3.046                                0.543   \n",
              "2                                2.987                                0.423   \n",
              "3                                2.879                                0.587   \n",
              "4                                2.473                                0.475   \n",
              "\n",
              "   lh_caudalanteriorcingulate_MeanCurv  ...  CC_Mid_Anterior_Volume_mm3  \\\n",
              "0                                0.134  ...                       788.7   \n",
              "1                                0.116  ...                       907.3   \n",
              "2                                0.104  ...                       964.2   \n",
              "3                                0.120  ...                       811.0   \n",
              "4                                0.104  ...                       844.8   \n",
              "\n",
              "   CC_Anterior_Volume_mm3  lh_MeanThickness  rh_MeanThickness  \\\n",
              "0                   929.8           2.52039           2.52379   \n",
              "1                  1066.6           2.55533           2.56998   \n",
              "2                  1104.3           2.64518           2.63160   \n",
              "3                  1056.7           2.70814           2.72762   \n",
              "4                  1015.4           2.59002           2.61012   \n",
              "\n",
              "   VentricleChoroidVol  lhCortexVol  rhCortexVol  lhCerebralWhiteMatterVol  \\\n",
              "0                42065  258703.4443  262670.1207               262254.9768   \n",
              "1                28505  321132.1284  317004.7945               304528.2513   \n",
              "2                13383  266418.9917  266456.1701               271683.1723   \n",
              "3                 6849  307157.4469  310540.0389               258618.7918   \n",
              "4                73159  263932.5269  269417.2519               242330.5838   \n",
              "\n",
              "   rhCerebralWhiteMatterVol  TotalGrayVol  \n",
              "0               265741.1295   701211.5651  \n",
              "1               301555.0187   841485.9229  \n",
              "2               266494.7088   726728.1619  \n",
              "3               255480.2694   794676.4859  \n",
              "4               232809.9268   714122.7788  \n",
              "\n",
              "[5 rows x 424 columns]"
            ],
            "text/html": [
              "\n",
              "  <div id=\"df-1578f381-2c7b-469c-9d3f-335f5334324c\">\n",
              "    <div class=\"colab-df-container\">\n",
              "      <div>\n",
              "<style scoped>\n",
              "    .dataframe tbody tr th:only-of-type {\n",
              "        vertical-align: middle;\n",
              "    }\n",
              "\n",
              "    .dataframe tbody tr th {\n",
              "        vertical-align: top;\n",
              "    }\n",
              "\n",
              "    .dataframe thead th {\n",
              "        text-align: right;\n",
              "    }\n",
              "</style>\n",
              "<table border=\"1\" class=\"dataframe\">\n",
              "  <thead>\n",
              "    <tr style=\"text-align: right;\">\n",
              "      <th></th>\n",
              "      <th>FILE_ID</th>\n",
              "      <th>AGE_AT_SCAN</th>\n",
              "      <th>SEX</th>\n",
              "      <th>FIQ</th>\n",
              "      <th>DX_GROUP</th>\n",
              "      <th>lh_caudalanteriorcingulate_SurfArea</th>\n",
              "      <th>lh_caudalanteriorcingulate_GrayVol</th>\n",
              "      <th>lh_caudalanteriorcingulate_ThickAvg</th>\n",
              "      <th>lh_caudalanteriorcingulate_ThickStd</th>\n",
              "      <th>lh_caudalanteriorcingulate_MeanCurv</th>\n",
              "      <th>...</th>\n",
              "      <th>CC_Mid_Anterior_Volume_mm3</th>\n",
              "      <th>CC_Anterior_Volume_mm3</th>\n",
              "      <th>lh_MeanThickness</th>\n",
              "      <th>rh_MeanThickness</th>\n",
              "      <th>VentricleChoroidVol</th>\n",
              "      <th>lhCortexVol</th>\n",
              "      <th>rhCortexVol</th>\n",
              "      <th>lhCerebralWhiteMatterVol</th>\n",
              "      <th>rhCerebralWhiteMatterVol</th>\n",
              "      <th>TotalGrayVol</th>\n",
              "    </tr>\n",
              "  </thead>\n",
              "  <tbody>\n",
              "    <tr>\n",
              "      <th>0</th>\n",
              "      <td>Caltech_0051456</td>\n",
              "      <td>55.4</td>\n",
              "      <td>1</td>\n",
              "      <td>126.0</td>\n",
              "      <td>1</td>\n",
              "      <td>909</td>\n",
              "      <td>2684</td>\n",
              "      <td>2.918</td>\n",
              "      <td>0.481</td>\n",
              "      <td>0.134</td>\n",
              "      <td>...</td>\n",
              "      <td>788.7</td>\n",
              "      <td>929.8</td>\n",
              "      <td>2.52039</td>\n",
              "      <td>2.52379</td>\n",
              "      <td>42065</td>\n",
              "      <td>258703.4443</td>\n",
              "      <td>262670.1207</td>\n",
              "      <td>262254.9768</td>\n",
              "      <td>265741.1295</td>\n",
              "      <td>701211.5651</td>\n",
              "    </tr>\n",
              "    <tr>\n",
              "      <th>1</th>\n",
              "      <td>Caltech_0051457</td>\n",
              "      <td>22.9</td>\n",
              "      <td>1</td>\n",
              "      <td>107.0</td>\n",
              "      <td>1</td>\n",
              "      <td>1425</td>\n",
              "      <td>4623</td>\n",
              "      <td>3.046</td>\n",
              "      <td>0.543</td>\n",
              "      <td>0.116</td>\n",
              "      <td>...</td>\n",
              "      <td>907.3</td>\n",
              "      <td>1066.6</td>\n",
              "      <td>2.55533</td>\n",
              "      <td>2.56998</td>\n",
              "      <td>28505</td>\n",
              "      <td>321132.1284</td>\n",
              "      <td>317004.7945</td>\n",
              "      <td>304528.2513</td>\n",
              "      <td>301555.0187</td>\n",
              "      <td>841485.9229</td>\n",
              "    </tr>\n",
              "    <tr>\n",
              "      <th>2</th>\n",
              "      <td>Caltech_0051458</td>\n",
              "      <td>39.2</td>\n",
              "      <td>1</td>\n",
              "      <td>93.0</td>\n",
              "      <td>1</td>\n",
              "      <td>1205</td>\n",
              "      <td>3940</td>\n",
              "      <td>2.987</td>\n",
              "      <td>0.423</td>\n",
              "      <td>0.104</td>\n",
              "      <td>...</td>\n",
              "      <td>964.2</td>\n",
              "      <td>1104.3</td>\n",
              "      <td>2.64518</td>\n",
              "      <td>2.63160</td>\n",
              "      <td>13383</td>\n",
              "      <td>266418.9917</td>\n",
              "      <td>266456.1701</td>\n",
              "      <td>271683.1723</td>\n",
              "      <td>266494.7088</td>\n",
              "      <td>726728.1619</td>\n",
              "    </tr>\n",
              "    <tr>\n",
              "      <th>3</th>\n",
              "      <td>Caltech_0051459</td>\n",
              "      <td>22.8</td>\n",
              "      <td>1</td>\n",
              "      <td>106.0</td>\n",
              "      <td>1</td>\n",
              "      <td>1413</td>\n",
              "      <td>4711</td>\n",
              "      <td>2.879</td>\n",
              "      <td>0.587</td>\n",
              "      <td>0.120</td>\n",
              "      <td>...</td>\n",
              "      <td>811.0</td>\n",
              "      <td>1056.7</td>\n",
              "      <td>2.70814</td>\n",
              "      <td>2.72762</td>\n",
              "      <td>6849</td>\n",
              "      <td>307157.4469</td>\n",
              "      <td>310540.0389</td>\n",
              "      <td>258618.7918</td>\n",
              "      <td>255480.2694</td>\n",
              "      <td>794676.4859</td>\n",
              "    </tr>\n",
              "    <tr>\n",
              "      <th>4</th>\n",
              "      <td>Caltech_0051461</td>\n",
              "      <td>37.7</td>\n",
              "      <td>1</td>\n",
              "      <td>99.0</td>\n",
              "      <td>1</td>\n",
              "      <td>875</td>\n",
              "      <td>2270</td>\n",
              "      <td>2.473</td>\n",
              "      <td>0.475</td>\n",
              "      <td>0.104</td>\n",
              "      <td>...</td>\n",
              "      <td>844.8</td>\n",
              "      <td>1015.4</td>\n",
              "      <td>2.59002</td>\n",
              "      <td>2.61012</td>\n",
              "      <td>73159</td>\n",
              "      <td>263932.5269</td>\n",
              "      <td>269417.2519</td>\n",
              "      <td>242330.5838</td>\n",
              "      <td>232809.9268</td>\n",
              "      <td>714122.7788</td>\n",
              "    </tr>\n",
              "  </tbody>\n",
              "</table>\n",
              "<p>5 rows × 424 columns</p>\n",
              "</div>\n",
              "      <button class=\"colab-df-convert\" onclick=\"convertToInteractive('df-1578f381-2c7b-469c-9d3f-335f5334324c')\"\n",
              "              title=\"Convert this dataframe to an interactive table.\"\n",
              "              style=\"display:none;\">\n",
              "        \n",
              "  <svg xmlns=\"http://www.w3.org/2000/svg\" height=\"24px\"viewBox=\"0 0 24 24\"\n",
              "       width=\"24px\">\n",
              "    <path d=\"M0 0h24v24H0V0z\" fill=\"none\"/>\n",
              "    <path d=\"M18.56 5.44l.94 2.06.94-2.06 2.06-.94-2.06-.94-.94-2.06-.94 2.06-2.06.94zm-11 1L8.5 8.5l.94-2.06 2.06-.94-2.06-.94L8.5 2.5l-.94 2.06-2.06.94zm10 10l.94 2.06.94-2.06 2.06-.94-2.06-.94-.94-2.06-.94 2.06-2.06.94z\"/><path d=\"M17.41 7.96l-1.37-1.37c-.4-.4-.92-.59-1.43-.59-.52 0-1.04.2-1.43.59L10.3 9.45l-7.72 7.72c-.78.78-.78 2.05 0 2.83L4 21.41c.39.39.9.59 1.41.59.51 0 1.02-.2 1.41-.59l7.78-7.78 2.81-2.81c.8-.78.8-2.07 0-2.86zM5.41 20L4 18.59l7.72-7.72 1.47 1.35L5.41 20z\"/>\n",
              "  </svg>\n",
              "      </button>\n",
              "      \n",
              "  <style>\n",
              "    .colab-df-container {\n",
              "      display:flex;\n",
              "      flex-wrap:wrap;\n",
              "      gap: 12px;\n",
              "    }\n",
              "\n",
              "    .colab-df-convert {\n",
              "      background-color: #E8F0FE;\n",
              "      border: none;\n",
              "      border-radius: 50%;\n",
              "      cursor: pointer;\n",
              "      display: none;\n",
              "      fill: #1967D2;\n",
              "      height: 32px;\n",
              "      padding: 0 0 0 0;\n",
              "      width: 32px;\n",
              "    }\n",
              "\n",
              "    .colab-df-convert:hover {\n",
              "      background-color: #E2EBFA;\n",
              "      box-shadow: 0px 1px 2px rgba(60, 64, 67, 0.3), 0px 1px 3px 1px rgba(60, 64, 67, 0.15);\n",
              "      fill: #174EA6;\n",
              "    }\n",
              "\n",
              "    [theme=dark] .colab-df-convert {\n",
              "      background-color: #3B4455;\n",
              "      fill: #D2E3FC;\n",
              "    }\n",
              "\n",
              "    [theme=dark] .colab-df-convert:hover {\n",
              "      background-color: #434B5C;\n",
              "      box-shadow: 0px 1px 3px 1px rgba(0, 0, 0, 0.15);\n",
              "      filter: drop-shadow(0px 1px 2px rgba(0, 0, 0, 0.3));\n",
              "      fill: #FFFFFF;\n",
              "    }\n",
              "  </style>\n",
              "\n",
              "      <script>\n",
              "        const buttonEl =\n",
              "          document.querySelector('#df-1578f381-2c7b-469c-9d3f-335f5334324c button.colab-df-convert');\n",
              "        buttonEl.style.display =\n",
              "          google.colab.kernel.accessAllowed ? 'block' : 'none';\n",
              "\n",
              "        async function convertToInteractive(key) {\n",
              "          const element = document.querySelector('#df-1578f381-2c7b-469c-9d3f-335f5334324c');\n",
              "          const dataTable =\n",
              "            await google.colab.kernel.invokeFunction('convertToInteractive',\n",
              "                                                     [key], {});\n",
              "          if (!dataTable) return;\n",
              "\n",
              "          const docLinkHtml = 'Like what you see? Visit the ' +\n",
              "            '<a target=\"_blank\" href=https://colab.research.google.com/notebooks/data_table.ipynb>data table notebook</a>'\n",
              "            + ' to learn more about interactive tables.';\n",
              "          element.innerHTML = '';\n",
              "          dataTable['output_type'] = 'display_data';\n",
              "          await google.colab.output.renderOutput(dataTable, element);\n",
              "          const docLink = document.createElement('div');\n",
              "          docLink.innerHTML = docLinkHtml;\n",
              "          element.appendChild(docLink);\n",
              "        }\n",
              "      </script>\n",
              "    </div>\n",
              "  </div>\n",
              "  "
            ]
          },
          "metadata": {},
          "execution_count": 2
        }
      ]
    },
    {
      "cell_type": "markdown",
      "source": [
        "Adding a feature \"Site\" which is the acquisition site"
      ],
      "metadata": {
        "id": "IuZxekwyNdgj"
      }
    },
    {
      "cell_type": "code",
      "source": [
        "df['Site'] = df.FILE_ID.apply(lambda x: x.split('_')[0])\n",
        "df.size\n",
        "df.shape"
      ],
      "metadata": {
        "id": "gjPlCS0ANc7k",
        "colab": {
          "base_uri": "https://localhost:8080/"
        },
        "outputId": "d3418848-2dd8-431e-98c8-585e1d91228d"
      },
      "execution_count": 3,
      "outputs": [
        {
          "output_type": "execute_result",
          "data": {
            "text/plain": [
              "(915, 425)"
            ]
          },
          "metadata": {},
          "execution_count": 3
        }
      ]
    },
    {
      "cell_type": "markdown",
      "source": [
        " we define a new variable as the sum of L and R white matter"
      ],
      "metadata": {
        "id": "MgQhuGNLsmqg"
      }
    },
    {
      "cell_type": "code",
      "source": [
        "\n",
        "TotalWhiteVol = df.lhCerebralWhiteMatterVol+df.rhCerebralWhiteMatterVol\n",
        "#TotalWhiteVol /= 0.5*(df.lhCerebralWhiteMatterVol+df.rhCerebralWhiteMatterVol)\n",
        "df['TotalWhiteVol'] = TotalWhiteVol\n",
        "df.head(5)"
      ],
      "metadata": {
        "colab": {
          "base_uri": "https://localhost:8080/",
          "height": 293
        },
        "id": "GETDw-e3shjR",
        "outputId": "19e1b0a7-c16a-49d4-d0b6-df747ebc8d7e"
      },
      "execution_count": 4,
      "outputs": [
        {
          "output_type": "execute_result",
          "data": {
            "text/plain": [
              "           FILE_ID  AGE_AT_SCAN  SEX    FIQ  DX_GROUP  \\\n",
              "0  Caltech_0051456         55.4    1  126.0         1   \n",
              "1  Caltech_0051457         22.9    1  107.0         1   \n",
              "2  Caltech_0051458         39.2    1   93.0         1   \n",
              "3  Caltech_0051459         22.8    1  106.0         1   \n",
              "4  Caltech_0051461         37.7    1   99.0         1   \n",
              "\n",
              "   lh_caudalanteriorcingulate_SurfArea  lh_caudalanteriorcingulate_GrayVol  \\\n",
              "0                                  909                                2684   \n",
              "1                                 1425                                4623   \n",
              "2                                 1205                                3940   \n",
              "3                                 1413                                4711   \n",
              "4                                  875                                2270   \n",
              "\n",
              "   lh_caudalanteriorcingulate_ThickAvg  lh_caudalanteriorcingulate_ThickStd  \\\n",
              "0                                2.918                                0.481   \n",
              "1                                3.046                                0.543   \n",
              "2                                2.987                                0.423   \n",
              "3                                2.879                                0.587   \n",
              "4                                2.473                                0.475   \n",
              "\n",
              "   lh_caudalanteriorcingulate_MeanCurv  ...  lh_MeanThickness  \\\n",
              "0                                0.134  ...           2.52039   \n",
              "1                                0.116  ...           2.55533   \n",
              "2                                0.104  ...           2.64518   \n",
              "3                                0.120  ...           2.70814   \n",
              "4                                0.104  ...           2.59002   \n",
              "\n",
              "   rh_MeanThickness  VentricleChoroidVol  lhCortexVol  rhCortexVol  \\\n",
              "0           2.52379                42065  258703.4443  262670.1207   \n",
              "1           2.56998                28505  321132.1284  317004.7945   \n",
              "2           2.63160                13383  266418.9917  266456.1701   \n",
              "3           2.72762                 6849  307157.4469  310540.0389   \n",
              "4           2.61012                73159  263932.5269  269417.2519   \n",
              "\n",
              "   lhCerebralWhiteMatterVol  rhCerebralWhiteMatterVol  TotalGrayVol     Site  \\\n",
              "0               262254.9768               265741.1295   701211.5651  Caltech   \n",
              "1               304528.2513               301555.0187   841485.9229  Caltech   \n",
              "2               271683.1723               266494.7088   726728.1619  Caltech   \n",
              "3               258618.7918               255480.2694   794676.4859  Caltech   \n",
              "4               242330.5838               232809.9268   714122.7788  Caltech   \n",
              "\n",
              "   TotalWhiteVol  \n",
              "0    527996.1063  \n",
              "1    606083.2700  \n",
              "2    538177.8811  \n",
              "3    514099.0612  \n",
              "4    475140.5106  \n",
              "\n",
              "[5 rows x 426 columns]"
            ],
            "text/html": [
              "\n",
              "  <div id=\"df-219b074d-d291-4c76-bd91-319d11dcf6f0\">\n",
              "    <div class=\"colab-df-container\">\n",
              "      <div>\n",
              "<style scoped>\n",
              "    .dataframe tbody tr th:only-of-type {\n",
              "        vertical-align: middle;\n",
              "    }\n",
              "\n",
              "    .dataframe tbody tr th {\n",
              "        vertical-align: top;\n",
              "    }\n",
              "\n",
              "    .dataframe thead th {\n",
              "        text-align: right;\n",
              "    }\n",
              "</style>\n",
              "<table border=\"1\" class=\"dataframe\">\n",
              "  <thead>\n",
              "    <tr style=\"text-align: right;\">\n",
              "      <th></th>\n",
              "      <th>FILE_ID</th>\n",
              "      <th>AGE_AT_SCAN</th>\n",
              "      <th>SEX</th>\n",
              "      <th>FIQ</th>\n",
              "      <th>DX_GROUP</th>\n",
              "      <th>lh_caudalanteriorcingulate_SurfArea</th>\n",
              "      <th>lh_caudalanteriorcingulate_GrayVol</th>\n",
              "      <th>lh_caudalanteriorcingulate_ThickAvg</th>\n",
              "      <th>lh_caudalanteriorcingulate_ThickStd</th>\n",
              "      <th>lh_caudalanteriorcingulate_MeanCurv</th>\n",
              "      <th>...</th>\n",
              "      <th>lh_MeanThickness</th>\n",
              "      <th>rh_MeanThickness</th>\n",
              "      <th>VentricleChoroidVol</th>\n",
              "      <th>lhCortexVol</th>\n",
              "      <th>rhCortexVol</th>\n",
              "      <th>lhCerebralWhiteMatterVol</th>\n",
              "      <th>rhCerebralWhiteMatterVol</th>\n",
              "      <th>TotalGrayVol</th>\n",
              "      <th>Site</th>\n",
              "      <th>TotalWhiteVol</th>\n",
              "    </tr>\n",
              "  </thead>\n",
              "  <tbody>\n",
              "    <tr>\n",
              "      <th>0</th>\n",
              "      <td>Caltech_0051456</td>\n",
              "      <td>55.4</td>\n",
              "      <td>1</td>\n",
              "      <td>126.0</td>\n",
              "      <td>1</td>\n",
              "      <td>909</td>\n",
              "      <td>2684</td>\n",
              "      <td>2.918</td>\n",
              "      <td>0.481</td>\n",
              "      <td>0.134</td>\n",
              "      <td>...</td>\n",
              "      <td>2.52039</td>\n",
              "      <td>2.52379</td>\n",
              "      <td>42065</td>\n",
              "      <td>258703.4443</td>\n",
              "      <td>262670.1207</td>\n",
              "      <td>262254.9768</td>\n",
              "      <td>265741.1295</td>\n",
              "      <td>701211.5651</td>\n",
              "      <td>Caltech</td>\n",
              "      <td>527996.1063</td>\n",
              "    </tr>\n",
              "    <tr>\n",
              "      <th>1</th>\n",
              "      <td>Caltech_0051457</td>\n",
              "      <td>22.9</td>\n",
              "      <td>1</td>\n",
              "      <td>107.0</td>\n",
              "      <td>1</td>\n",
              "      <td>1425</td>\n",
              "      <td>4623</td>\n",
              "      <td>3.046</td>\n",
              "      <td>0.543</td>\n",
              "      <td>0.116</td>\n",
              "      <td>...</td>\n",
              "      <td>2.55533</td>\n",
              "      <td>2.56998</td>\n",
              "      <td>28505</td>\n",
              "      <td>321132.1284</td>\n",
              "      <td>317004.7945</td>\n",
              "      <td>304528.2513</td>\n",
              "      <td>301555.0187</td>\n",
              "      <td>841485.9229</td>\n",
              "      <td>Caltech</td>\n",
              "      <td>606083.2700</td>\n",
              "    </tr>\n",
              "    <tr>\n",
              "      <th>2</th>\n",
              "      <td>Caltech_0051458</td>\n",
              "      <td>39.2</td>\n",
              "      <td>1</td>\n",
              "      <td>93.0</td>\n",
              "      <td>1</td>\n",
              "      <td>1205</td>\n",
              "      <td>3940</td>\n",
              "      <td>2.987</td>\n",
              "      <td>0.423</td>\n",
              "      <td>0.104</td>\n",
              "      <td>...</td>\n",
              "      <td>2.64518</td>\n",
              "      <td>2.63160</td>\n",
              "      <td>13383</td>\n",
              "      <td>266418.9917</td>\n",
              "      <td>266456.1701</td>\n",
              "      <td>271683.1723</td>\n",
              "      <td>266494.7088</td>\n",
              "      <td>726728.1619</td>\n",
              "      <td>Caltech</td>\n",
              "      <td>538177.8811</td>\n",
              "    </tr>\n",
              "    <tr>\n",
              "      <th>3</th>\n",
              "      <td>Caltech_0051459</td>\n",
              "      <td>22.8</td>\n",
              "      <td>1</td>\n",
              "      <td>106.0</td>\n",
              "      <td>1</td>\n",
              "      <td>1413</td>\n",
              "      <td>4711</td>\n",
              "      <td>2.879</td>\n",
              "      <td>0.587</td>\n",
              "      <td>0.120</td>\n",
              "      <td>...</td>\n",
              "      <td>2.70814</td>\n",
              "      <td>2.72762</td>\n",
              "      <td>6849</td>\n",
              "      <td>307157.4469</td>\n",
              "      <td>310540.0389</td>\n",
              "      <td>258618.7918</td>\n",
              "      <td>255480.2694</td>\n",
              "      <td>794676.4859</td>\n",
              "      <td>Caltech</td>\n",
              "      <td>514099.0612</td>\n",
              "    </tr>\n",
              "    <tr>\n",
              "      <th>4</th>\n",
              "      <td>Caltech_0051461</td>\n",
              "      <td>37.7</td>\n",
              "      <td>1</td>\n",
              "      <td>99.0</td>\n",
              "      <td>1</td>\n",
              "      <td>875</td>\n",
              "      <td>2270</td>\n",
              "      <td>2.473</td>\n",
              "      <td>0.475</td>\n",
              "      <td>0.104</td>\n",
              "      <td>...</td>\n",
              "      <td>2.59002</td>\n",
              "      <td>2.61012</td>\n",
              "      <td>73159</td>\n",
              "      <td>263932.5269</td>\n",
              "      <td>269417.2519</td>\n",
              "      <td>242330.5838</td>\n",
              "      <td>232809.9268</td>\n",
              "      <td>714122.7788</td>\n",
              "      <td>Caltech</td>\n",
              "      <td>475140.5106</td>\n",
              "    </tr>\n",
              "  </tbody>\n",
              "</table>\n",
              "<p>5 rows × 426 columns</p>\n",
              "</div>\n",
              "      <button class=\"colab-df-convert\" onclick=\"convertToInteractive('df-219b074d-d291-4c76-bd91-319d11dcf6f0')\"\n",
              "              title=\"Convert this dataframe to an interactive table.\"\n",
              "              style=\"display:none;\">\n",
              "        \n",
              "  <svg xmlns=\"http://www.w3.org/2000/svg\" height=\"24px\"viewBox=\"0 0 24 24\"\n",
              "       width=\"24px\">\n",
              "    <path d=\"M0 0h24v24H0V0z\" fill=\"none\"/>\n",
              "    <path d=\"M18.56 5.44l.94 2.06.94-2.06 2.06-.94-2.06-.94-.94-2.06-.94 2.06-2.06.94zm-11 1L8.5 8.5l.94-2.06 2.06-.94-2.06-.94L8.5 2.5l-.94 2.06-2.06.94zm10 10l.94 2.06.94-2.06 2.06-.94-2.06-.94-.94-2.06-.94 2.06-2.06.94z\"/><path d=\"M17.41 7.96l-1.37-1.37c-.4-.4-.92-.59-1.43-.59-.52 0-1.04.2-1.43.59L10.3 9.45l-7.72 7.72c-.78.78-.78 2.05 0 2.83L4 21.41c.39.39.9.59 1.41.59.51 0 1.02-.2 1.41-.59l7.78-7.78 2.81-2.81c.8-.78.8-2.07 0-2.86zM5.41 20L4 18.59l7.72-7.72 1.47 1.35L5.41 20z\"/>\n",
              "  </svg>\n",
              "      </button>\n",
              "      \n",
              "  <style>\n",
              "    .colab-df-container {\n",
              "      display:flex;\n",
              "      flex-wrap:wrap;\n",
              "      gap: 12px;\n",
              "    }\n",
              "\n",
              "    .colab-df-convert {\n",
              "      background-color: #E8F0FE;\n",
              "      border: none;\n",
              "      border-radius: 50%;\n",
              "      cursor: pointer;\n",
              "      display: none;\n",
              "      fill: #1967D2;\n",
              "      height: 32px;\n",
              "      padding: 0 0 0 0;\n",
              "      width: 32px;\n",
              "    }\n",
              "\n",
              "    .colab-df-convert:hover {\n",
              "      background-color: #E2EBFA;\n",
              "      box-shadow: 0px 1px 2px rgba(60, 64, 67, 0.3), 0px 1px 3px 1px rgba(60, 64, 67, 0.15);\n",
              "      fill: #174EA6;\n",
              "    }\n",
              "\n",
              "    [theme=dark] .colab-df-convert {\n",
              "      background-color: #3B4455;\n",
              "      fill: #D2E3FC;\n",
              "    }\n",
              "\n",
              "    [theme=dark] .colab-df-convert:hover {\n",
              "      background-color: #434B5C;\n",
              "      box-shadow: 0px 1px 3px 1px rgba(0, 0, 0, 0.15);\n",
              "      filter: drop-shadow(0px 1px 2px rgba(0, 0, 0, 0.3));\n",
              "      fill: #FFFFFF;\n",
              "    }\n",
              "  </style>\n",
              "\n",
              "      <script>\n",
              "        const buttonEl =\n",
              "          document.querySelector('#df-219b074d-d291-4c76-bd91-319d11dcf6f0 button.colab-df-convert');\n",
              "        buttonEl.style.display =\n",
              "          google.colab.kernel.accessAllowed ? 'block' : 'none';\n",
              "\n",
              "        async function convertToInteractive(key) {\n",
              "          const element = document.querySelector('#df-219b074d-d291-4c76-bd91-319d11dcf6f0');\n",
              "          const dataTable =\n",
              "            await google.colab.kernel.invokeFunction('convertToInteractive',\n",
              "                                                     [key], {});\n",
              "          if (!dataTable) return;\n",
              "\n",
              "          const docLinkHtml = 'Like what you see? Visit the ' +\n",
              "            '<a target=\"_blank\" href=https://colab.research.google.com/notebooks/data_table.ipynb>data table notebook</a>'\n",
              "            + ' to learn more about interactive tables.';\n",
              "          element.innerHTML = '';\n",
              "          dataTable['output_type'] = 'display_data';\n",
              "          await google.colab.output.renderOutput(dataTable, element);\n",
              "          const docLink = document.createElement('div');\n",
              "          docLink.innerHTML = docLinkHtml;\n",
              "          element.appendChild(docLink);\n",
              "        }\n",
              "      </script>\n",
              "    </div>\n",
              "  </div>\n",
              "  "
            ]
          },
          "metadata": {},
          "execution_count": 4
        }
      ]
    },
    {
      "cell_type": "markdown",
      "source": [
        "\\Dividing the data set in ASD and TD and check their shape\n"
      ],
      "metadata": {
        "id": "dp5BbHZ1RNz0"
      }
    },
    {
      "cell_type": "code",
      "source": [
        "df_ASD=df.loc[df.DX_GROUP==1]\n",
        "df_TD=df.loc[df.DX_GROUP==-1]\n",
        "df_ASD.size\n",
        "df_TD.shape\n",
        "df_TD.Site"
      ],
      "metadata": {
        "id": "oPqSRyakRQ_N",
        "colab": {
          "base_uri": "https://localhost:8080/"
        },
        "outputId": "0ac7d897-00fa-46cb-b23c-076f65648d52"
      },
      "execution_count": 5,
      "outputs": [
        {
          "output_type": "execute_result",
          "data": {
            "text/plain": [
              "15     Caltech\n",
              "16     Caltech\n",
              "17     Caltech\n",
              "18     Caltech\n",
              "19     Caltech\n",
              "        ...   \n",
              "890       Yale\n",
              "891       Yale\n",
              "892       Yale\n",
              "893       Yale\n",
              "894       Yale\n",
              "Name: Site, Length: 464, dtype: object"
            ]
          },
          "metadata": {},
          "execution_count": 5
        }
      ]
    },
    {
      "cell_type": "markdown",
      "source": [
        "# **# Representing data**\n",
        "We are going to analize the TD dataset"
      ],
      "metadata": {
        "id": "C5Jxj_FDVmPI"
      }
    },
    {
      "cell_type": "markdown",
      "source": [
        "# **Histograms**\n",
        "\n",
        "By convention, in this dataset missing values in the FIQ column are indicated as either -9999 or 0 so we mask them "
      ],
      "metadata": {
        "id": "4s_ztB9VVuJM"
      }
    },
    {
      "cell_type": "code",
      "source": [
        "df_TD[df_TD.FIQ>0].hist('FIQ')\n",
        "df_TD.hist(['AGE_AT_SCAN'])"
      ],
      "metadata": {
        "id": "tW9fdm0EVvfS",
        "colab": {
          "base_uri": "https://localhost:8080/",
          "height": 599
        },
        "outputId": "dde2cf92-dbb6-4a92-bf8a-54513278b3ea"
      },
      "execution_count": 6,
      "outputs": [
        {
          "output_type": "execute_result",
          "data": {
            "text/plain": [
              "array([[<matplotlib.axes._subplots.AxesSubplot object at 0x7f718e632ed0>]],\n",
              "      dtype=object)"
            ]
          },
          "metadata": {},
          "execution_count": 6
        },
        {
          "output_type": "display_data",
          "data": {
            "text/plain": [
              "<Figure size 432x288 with 1 Axes>"
            ],
            "image/png": "[encoded data removed]"
          },
          "metadata": {
            "needs_background": "light"
          }
        },
        {
          "output_type": "display_data",
          "data": {
            "text/plain": [
              "<Figure size 432x288 with 1 Axes>"
            ],
            "image/png": "[encoded data removed]"
          },
          "metadata": {
            "needs_background": "light"
          }
        }
      ]
    },
    {
      "cell_type": "markdown",
      "source": [
        "# Boxplots\n",
        "We can make a boxplot representing the age values for each acquisition site."
      ],
      "metadata": {
        "id": "pGv7Ed4HWkqj"
      }
    },
    {
      "cell_type": "code",
      "source": [
        "boxplot = df_TD.boxplot(column=['AGE_AT_SCAN'], by='Site', showfliers=False)\n",
        "boxplot.set_title('Box plot of subject\\'s age at scan')\n",
        "boxplot.get_figure().suptitle('');\n",
        "boxplot.set_ylabel('Age [y]')\n",
        "boxplot.set_xticklabels(labels=boxplot.get_xticklabels(), rotation=50);"
      ],
      "metadata": {
        "id": "WM1ZftIAW347",
        "colab": {
          "base_uri": "https://localhost:8080/",
          "height": 376
        },
        "outputId": "394141c3-1320-4bac-dbe2-0a4e1efdd175"
      },
      "execution_count": 7,
      "outputs": [
        {
          "output_type": "stream",
          "name": "stderr",
          "text": [
            "/usr/local/lib/python3.7/dist-packages/matplotlib/cbook/__init__.py:1376: VisibleDeprecationWarning: Creating an ndarray from ragged nested sequences (which is a list-or-tuple of lists-or-tuples-or ndarrays with different lengths or shapes) is deprecated. If you meant to do this, you must specify 'dtype=object' when creating the ndarray.\n",
            "  X = np.atleast_1d(X.T if isinstance(X, np.ndarray) else np.asarray(X))\n"
          ]
        },
        {
          "output_type": "display_data",
          "data": {
            "text/plain": [
              "<Figure size 432x288 with 1 Axes>"
            ],
            "image/png": "[encoded data removed]"
          },
          "metadata": {
            "needs_background": "light"
          }
        }
      ]
    },
    {
      "cell_type": "code",
      "source": [
        "sns_boxplot = sns.boxplot(x='Site', y='AGE_AT_SCAN', data=df_TD)\n",
        "sns_boxplot.set_xticklabels(labels=boxplot.get_xticklabels(), rotation=50);\n",
        "sns_boxplot.grid()"
      ],
      "metadata": {
        "id": "LVFZwikLXPoq",
        "colab": {
          "base_uri": "https://localhost:8080/",
          "height": 328
        },
        "outputId": "61a4a421-900c-4dde-e862-aab7df172f52"
      },
      "execution_count": 8,
      "outputs": [
        {
          "output_type": "display_data",
          "data": {
            "text/plain": [
              "<Figure size 432x288 with 1 Axes>"
            ],
            "image/png": "[encoded data removed]"
          },
          "metadata": {
            "needs_background": "light"
          }
        }
      ]
    },
    {
      "cell_type": "code",
      "source": [
        "df_TD[df_TD.CSF_Volume_mm3>0].hist('CSF_Volume_mm3')\n",
        "df_ASD[df_ASD.CSF_Volume_mm3>0].hist('CSF_Volume_mm3')\n"
      ],
      "metadata": {
        "id": "vXlE3TAdPY2Z",
        "colab": {
          "base_uri": "https://localhost:8080/",
          "height": 599
        },
        "outputId": "9f47979a-ea85-4ec9-f546-fb085bf48366"
      },
      "execution_count": 9,
      "outputs": [
        {
          "output_type": "execute_result",
          "data": {
            "text/plain": [
              "array([[<matplotlib.axes._subplots.AxesSubplot object at 0x7f718dc7b450>]],\n",
              "      dtype=object)"
            ]
          },
          "metadata": {},
          "execution_count": 9
        },
        {
          "output_type": "display_data",
          "data": {
            "text/plain": [
              "<Figure size 432x288 with 1 Axes>"
            ],
            "image/png": "[encoded data removed]"
          },
          "metadata": {
            "needs_background": "light"
          }
        },
        {
          "output_type": "display_data",
          "data": {
            "text/plain": [
              "<Figure size 432x288 with 1 Axes>"
            ],
            "image/png": "[encoded data removed]"
          },
          "metadata": {
            "needs_background": "light"
          }
        }
      ]
    },
    {
      "cell_type": "markdown",
      "source": [
        "# **Basic data analysis**"
      ],
      "metadata": {
        "id": "P-lfv2awX3-J"
      }
    },
    {
      "cell_type": "markdown",
      "source": [
        " First of all we have to check for normality of our data distributions. We can use the scipy.stats.normaltest which test whether a sample differs from a normal distribution. This function tests the null hypothesis that a sample comes from a normal distribution\n",
        "\n",
        " In case the assumption of normality is not satisfied for a specific sample, non parametric tests to compare two samples can be carried out: • Wilcoxon-Mann-Whitney tests if two samples come from the same population"
      ],
      "metadata": {
        "id": "dUzY1Z4rClz8"
      }
    },
    {
      "cell_type": "code",
      "source": [
        "k2, p_asd = scipy.stats.normaltest(df_ASD.AGE_AT_SCAN)\n",
        "k2, p_ctr = scipy.stats.normaltest(df_TD.AGE_AT_SCAN)\n",
        "print(p_asd, p_ctr)\n",
        "test_res = scipy.stats.mannwhitneyu(df_ASD.AGE_AT_SCAN, df_TD.AGE_AT_SCAN)\n",
        "test_res"
      ],
      "metadata": {
        "id": "HPLHxSwhCqSo",
        "colab": {
          "base_uri": "https://localhost:8080/"
        },
        "outputId": "17638590-a398-464e-a49a-b4f38b4ddfad"
      },
      "execution_count": 10,
      "outputs": [
        {
          "output_type": "stream",
          "name": "stdout",
          "text": [
            "7.754904468505647e-42 4.366359373856672e-28\n"
          ]
        },
        {
          "output_type": "execute_result",
          "data": {
            "text/plain": [
              "MannwhitneyuResult(statistic=102278.5, pvalue=0.27801919589384394)"
            ]
          },
          "metadata": {},
          "execution_count": 10
        }
      ]
    },
    {
      "cell_type": "markdown",
      "source": [
        "We can do the same analysis for the FIQ. First we have to remove from the dataframes the entries with FIQ = -9999."
      ],
      "metadata": {
        "id": "H5ZCsadVDdZ_"
      }
    },
    {
      "cell_type": "code",
      "source": [
        "df_ASD = df_ASD[df_ASD.FIQ >0]\n",
        "df_TD = df_TD[df_TD.FIQ >0]\n",
        "k2, p_asd = scipy.stats.normaltest(df_ASD.FIQ)\n",
        "k2, p_ctr = scipy.stats.normaltest(df_TD.FIQ)\n",
        "print(p_asd, p_ctr)\n",
        "\n",
        "#test_res = scipy.stats.ttest_ind(df_ASD.FIQ, df_TD.FIQ)\n",
        "test_res"
      ],
      "metadata": {
        "colab": {
          "base_uri": "https://localhost:8080/"
        },
        "id": "6HQy17Je7ubC",
        "outputId": "d5e8d567-5f08-4c73-d91c-8dca95db225f"
      },
      "execution_count": 11,
      "outputs": [
        {
          "output_type": "stream",
          "name": "stdout",
          "text": [
            "0.5917444872576755 0.4198194732498861\n"
          ]
        },
        {
          "output_type": "execute_result",
          "data": {
            "text/plain": [
              "MannwhitneyuResult(statistic=102278.5, pvalue=0.27801919589384394)"
            ]
          },
          "metadata": {},
          "execution_count": 11
        }
      ]
    },
    {
      "cell_type": "markdown",
      "source": [
        "# Finding outliers in the distributions"
      ],
      "metadata": {
        "id": "Rl5AFIaRYC03"
      }
    },
    {
      "cell_type": "markdown",
      "source": [
        "# **Features selection methods**\n",
        "We want to understand the feautures suted to predict the age. For thus reson we are going to exolore to methods for feauture selection."
      ],
      "metadata": {
        "id": "qLPVcHKgv_OG"
      }
    },
    {
      "cell_type": "markdown",
      "source": [
        "# Correlations among variables\n",
        "We want to see how a restricted set of variables correlates with the age at scan"
      ],
      "metadata": {
        "id": "dGNJ83-S8ZHk"
      }
    },
    {
      "cell_type": "code",
      "source": [
        "features = [ 'AGE_AT_SCAN','lhCortexVol', 'rhCortexVol',\n",
        "       'TotalWhiteVol',  'TotalGrayVol', 'CSF_Volume_mm3',\n",
        "       ]\n",
        "df_TDrestricted=df_TD[features]\n",
        "#sns.heatmap(df_TDrestricted.drop('AGE_AT_SCAN', axis=1).corr(),annot=True)\n",
        "sns.heatmap(df_TDrestricted.corr(),annot=True)"
      ],
      "metadata": {
        "colab": {
          "base_uri": "https://localhost:8080/",
          "height": 388
        },
        "id": "fz7zDu58qGhb",
        "outputId": "739e1974-67d6-4244-c3b4-5d872f8ca62e"
      },
      "execution_count": 12,
      "outputs": [
        {
          "output_type": "execute_result",
          "data": {
            "text/plain": [
              "<matplotlib.axes._subplots.AxesSubplot at 0x7f718dbb8d90>"
            ]
          },
          "metadata": {},
          "execution_count": 12
        },
        {
          "output_type": "display_data",
          "data": {
            "text/plain": [
              "<Figure size 432x288 with 2 Axes>"
            ],
            "image/png": "[encoded data removed]"
          },
          "metadata": {
            "needs_background": "light"
          }
        }
      ]
    },
    {
      "cell_type": "markdown",
      "source": [
        "The heat map uses scipy.stats.pearsonr which returns the Pearson's correlation coefficient and p-value. We can reproduce the heat values "
      ],
      "metadata": {
        "id": "XPqZiGLSvPV2"
      }
    },
    {
      "cell_type": "code",
      "source": [
        "res = scipy.stats.pearsonr(df_TD['rhCortexVol'], df_TD['AGE_AT_SCAN'])\n",
        "res"
      ],
      "metadata": {
        "colab": {
          "base_uri": "https://localhost:8080/"
        },
        "id": "BTFYBZ9avaBX",
        "outputId": "950d8711-955d-434f-dd4c-7a217529c6e0"
      },
      "execution_count": 13,
      "outputs": [
        {
          "output_type": "execute_result",
          "data": {
            "text/plain": [
              "(-0.27498460105292394, 6.199209301084142e-09)"
            ]
          },
          "metadata": {},
          "execution_count": 13
        }
      ]
    },
    {
      "cell_type": "markdown",
      "source": [
        "Let us generalize the anilys to all the features.\n",
        "Remeber that the methos .corr() Compute pairwise correlation of columns, excluding NA/null values. \n",
        "DataFrame.corr(method='pearson', min_periods=1)\n",
        "where min_periods is Minimum number of observations required per pair of columns to have a valid result. Currently only available for Pearson and Spearman correlation."
      ],
      "metadata": {
        "id": "3EJ7Qw3gzqon"
      }
    },
    {
      "cell_type": "code",
      "source": [
        "agecorr_TD=df_TD.corr()['AGE_AT_SCAN'] #we acces to the column relative to age\n"
      ],
      "metadata": {
        "id": "tY_TTpWW0av3"
      },
      "execution_count": 14,
      "outputs": []
    },
    {
      "cell_type": "markdown",
      "source": [
        "We decide to use the feautures wose correlation with age at scan is >0.5"
      ],
      "metadata": {
        "id": "xMyfhEBk2WAp"
      }
    },
    {
      "cell_type": "code",
      "source": [
        "agecorr_TD[np.abs(agecorr_TD)>0.4]"
      ],
      "metadata": {
        "colab": {
          "base_uri": "https://localhost:8080/"
        },
        "id": "n8kLm-NJ2VTd",
        "outputId": "978e13e7-3934-4212-e912-6ef58fb6ca0d"
      },
      "execution_count": 15,
      "outputs": [
        {
          "output_type": "execute_result",
          "data": {
            "text/plain": [
              "AGE_AT_SCAN                         1.000000\n",
              "lh_cuneus_ThickAvg                 -0.506638\n",
              "lh_cuneus_ThickStd                 -0.400102\n",
              "lh_inferiorparietal_ThickAvg       -0.488796\n",
              "lh_inferiorparietal_ThickStd       -0.484435\n",
              "lh_lingual_ThickAvg                -0.501001\n",
              "lh_paracentral_GrayVol             -0.408816\n",
              "lh_paracentral_ThickAvg            -0.498223\n",
              "lh_parsopercularis_ThickStd        -0.409211\n",
              "lh_parsorbitalis_ThickStd          -0.404158\n",
              "lh_parstriangularis_ThickStd       -0.480385\n",
              "lh_pericalcarine_ThickAvg          -0.402302\n",
              "lh_postcentral_ThickStd            -0.453719\n",
              "lh_posteriorcingulate_ThickAvg     -0.441896\n",
              "lh_posteriorcingulate_ThickStd     -0.408432\n",
              "lh_precuneus_GrayVol               -0.442559\n",
              "lh_precuneus_ThickAvg              -0.536501\n",
              "lh_precuneus_ThickStd              -0.523614\n",
              "lh_rostralmiddlefrontal_ThickStd   -0.524324\n",
              "lh_superiorfrontal_ThickAvg        -0.472713\n",
              "lh_superiorfrontal_ThickStd        -0.519959\n",
              "lh_superiorparietal_ThickAvg       -0.434554\n",
              "lh_superiorparietal_ThickStd       -0.464640\n",
              "lh_supramarginal_ThickStd          -0.504843\n",
              "rh_caudalmiddlefrontal_ThickAvg    -0.410879\n",
              "rh_caudalmiddlefrontal_ThickStd    -0.410487\n",
              "rh_cuneus_ThickAvg                 -0.464043\n",
              "rh_inferiorparietal_ThickAvg       -0.456662\n",
              "rh_inferiorparietal_ThickStd       -0.525266\n",
              "rh_lingual_ThickAvg                -0.498500\n",
              "rh_paracentral_ThickAvg            -0.455643\n",
              "rh_parsopercularis_ThickStd        -0.473450\n",
              "rh_parstriangularis_ThickStd       -0.450008\n",
              "rh_postcentral_ThickStd            -0.435689\n",
              "rh_precuneus_ThickAvg              -0.561995\n",
              "rh_precuneus_ThickStd              -0.537816\n",
              "rh_rostralmiddlefrontal_ThickAvg   -0.448369\n",
              "rh_rostralmiddlefrontal_ThickStd   -0.507928\n",
              "rh_superiorfrontal_ThickAvg        -0.512838\n",
              "rh_superiorfrontal_ThickStd        -0.491987\n",
              "rh_superiorparietal_GrayVol        -0.405839\n",
              "rh_superiorparietal_ThickAvg       -0.480198\n",
              "rh_superiorparietal_ThickStd       -0.485683\n",
              "rh_supramarginal_ThickStd          -0.474413\n",
              "Brain-Stem_Volume_mm3               0.406371\n",
              "lh_MeanThickness                   -0.502076\n",
              "rh_MeanThickness                   -0.520756\n",
              "lhCerebralWhiteMatterVol            0.419608\n",
              "rhCerebralWhiteMatterVol            0.416121\n",
              "TotalWhiteVol                       0.418609\n",
              "Name: AGE_AT_SCAN, dtype: float64"
            ]
          },
          "metadata": {},
          "execution_count": 15
        }
      ]
    },
    {
      "cell_type": "code",
      "source": [
        "features=agecorr_TD[np.abs(agecorr_TD)>0.5]\n",
        "#print(type(features))\n",
        "listoffeatures=features.keys()\n",
        "#print(type(listoffeatures))\n",
        "listoffeatures = listoffeatures.drop('AGE_AT_SCAN')\n",
        "np.shape(listoffeatures)"
      ],
      "metadata": {
        "id": "M3knxg7dF_nw"
      },
      "execution_count": null,
      "outputs": []
    },
    {
      "cell_type": "markdown",
      "source": [
        "# Importance for the specific regression algorithm "
      ],
      "metadata": {
        "id": "JUYg0YUQArFS"
      }
    },
    {
      "cell_type": "code",
      "source": [
        "from sklearn.model_selection import train_test_split\n",
        "from sklearn.feature_selection import SelectFromModel\n",
        "from sklearn.linear_model import RidgeCV\n",
        "from sklearn.linear_model import LinearRegression\n",
        "from sklearn.ensemble import RandomForestRegressor\n"
      ],
      "metadata": {
        "id": "kSYS5yMuA9zX"
      },
      "execution_count": 16,
      "outputs": []
    },
    {
      "cell_type": "code",
      "source": [
        "#model_name=LinearRegression()\n",
        "#model_name=RandomForestRegressor()\n",
        "model_name=RidgeCV()\n",
        "# Splitting data into test and train sets\n",
        "X_train, X_test, y_train, y_test = train_test_split(df_TD.drop(['AGE_AT_SCAN','FILE_ID', 'Site'], axis=1), df_TD['AGE_AT_SCAN'], test_size=0.30, random_state=0)\n",
        "model_save = model_name.fit(X_train, y_train)\n",
        "\n",
        "importance = np.abs(model_save.coef_) #how do we want to define the importance? Not every model has .coef_ method...\n",
        "\n",
        "threshold = np.sort(importance)[-3] +0.001\n",
        "sfm = SelectFromModel(model_save, threshold=threshold).fit(X_train, y_train)\n",
        "feature_names = np.array(X_train.columns)\n",
        "print(f\"Features selected by SelectFromModel: {feature_names[sfm.get_support()]}\")\n",
        "\n",
        "plt.bar(height=importance[sfm.get_support()], x=feature_names[sfm.get_support()])\n",
        "plt.title(\"Feature importances via coefficients\")\n",
        "plt.show()"
      ],
      "metadata": {
        "colab": {
          "base_uri": "https://localhost:8080/",
          "height": 319
        },
        "id": "Ltqa_-WdA_p0",
        "outputId": "c4f9c5c0-bc5f-407f-b517-8a6069343703"
      },
      "execution_count": 17,
      "outputs": [
        {
          "output_type": "stream",
          "name": "stdout",
          "text": [
            "Features selected by SelectFromModel: ['lh_caudalanteriorcingulate_CurvInd' 'rh_parahippocampal_CurvInd']\n"
          ]
        },
        {
          "output_type": "display_data",
          "data": {
            "text/plain": [
              "<Figure size 432x288 with 1 Axes>"
            ],
            "image/png": "[encoded data removed]"
          },
          "metadata": {
            "needs_background": "light"
          }
        }
      ]
    },
    {
      "cell_type": "markdown",
      "source": [
        "# Accounting for confounders into the analysis\n",
        "To mitigate the effect of the different acquisition sites on the features, we have to harmonize data across sites. We can attempt to normalize them by applying, for example, a per-site feature normalization.\n",
        "The sklearn.RobustScaler removes the median and scales the data according to the quantile range (defaults to IQR: Interquartile Range). The IQR is the range between the 1st quartile (25th quantile) and the 3rd quartile (75th quantile)."
      ],
      "metadata": {
        "id": "76uaBNHM_gly"
      }
    },
    {
      "cell_type": "code",
      "source": [
        "from sklearn.preprocessing import RobustScaler\n",
        "df_TD_site1 = df_TD[df_TD.Site == 'KKI']\n",
        "df_TD_site2 = df_TD[df_TD.Site == 'Stanford']\n",
        "df_TD_site3 = df_TD[df_TD.Site == 'UCLA']"
      ],
      "metadata": {
        "id": "x5EPtkjr_wuz"
      },
      "execution_count": 18,
      "outputs": []
    }
  ]
}