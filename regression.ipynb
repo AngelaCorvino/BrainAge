{
  "nbformat": 4,
  "nbformat_minor": 0,
  "metadata": {
    "colab": {
      "name": "regression.ipynb",
      "provenance": [],
      "include_colab_link": true
    },
    "kernelspec": {
      "name": "python3",
      "display_name": "Python 3"
    },
    "language_info": {
      "name": "python"
    }
  },
  "cells": [
    {
      "cell_type": "markdown",
      "metadata": {
        "id": "view-in-github",
        "colab_type": "text"
      },
      "source": [
        "<a href=\"https://colab.research.google.com/github/AngelaCorvino/BrainAge/blob/main/regression.ipynb\" target=\"_parent\"><img src=\"https://colab.research.google.com/assets/colab-badge.svg\" alt=\"Open In Colab\"/></a>"
      ]
    },
    {
      "cell_type": "markdown",
      "source": [
        "# **Regression models**"
      ],
      "metadata": {
        "id": "0IYC_xOhuz8O"
      }
    },
    {
      "cell_type": "code",
      "source": [
        "import pandas as pd\n",
        "import matplotlib.pyplot as plt\n",
        "import seaborn as sns\n",
        "import numpy as np\n",
        "import scipy.stats\n",
        "from sklearn.model_selection import train_test_split\n",
        "from sklearn.preprocessing import StandardScaler\n",
        "from sklearn.svm import SVC\n",
        "from sklearn.linear_model import LinearRegression\n",
        "from sklearn.model_selection import KFold\n",
        "from sklearn.gaussian_process import GaussianProcessRegressor\n",
        "from sklearn.ensemble import RandomForestRegressor\n",
        "from sklearn.metrics import accuracy_score\n",
        "from sklearn.metrics import mean_squared_error\n",
        "from sklearn.metrics import mean_absolute_error\n",
        "from sklearn.preprocessing import PolynomialFeatures"
      ],
      "metadata": {
        "id": "V8mDvzsKu5UX"
      },
      "execution_count": 1,
      "outputs": []
    },
    {
      "cell_type": "markdown",
      "source": [
        "Read the data set and add a feature \"Site\" which is the acquisition site\n"
      ],
      "metadata": {
        "id": "7Oes16YuvDTH"
      }
    },
    {
      "cell_type": "code",
      "source": [
        "\n",
        "dataset_file = 'https://raw.githubusercontent.com/AngelaCorvino/BrainAge/main/BrainAge/data/FS_features_ABIDE_males.csv'\n",
        "df = pd.read_csv(dataset_file,sep=';')\n",
        "df.FILE_ID\n",
        "df.FILE_ID[0].split('_')[0]\n",
        "df['Site'] = df.FILE_ID.apply(lambda x: x.split('_')[0])"
      ],
      "metadata": {
        "id": "gin_wlwvvFJI"
      },
      "execution_count": 4,
      "outputs": []
    },
    {
      "cell_type": "markdown",
      "source": [
        "Divede the data set in ASD and TD and check their shape\n"
      ],
      "metadata": {
        "id": "QvYBA9UCvYDe"
      }
    },
    {
      "cell_type": "code",
      "source": [
        "df_ASD=df.loc[df.DX_GROUP==1]\n",
        "df_TD=df.loc[df.DX_GROUP==-1]\n",
        "df_ASD.size\n",
        "df_TD.shape"
      ],
      "metadata": {
        "colab": {
          "base_uri": "https://localhost:8080/"
        },
        "id": "ldegHZI5vbDf",
        "outputId": "81696abd-2638-4096-f98a-79be6f948429"
      },
      "execution_count": 5,
      "outputs": [
        {
          "output_type": "execute_result",
          "data": {
            "text/plain": [
              "(464, 425)"
            ]
          },
          "metadata": {},
          "execution_count": 5
        }
      ]
    },
    {
      "cell_type": "markdown",
      "source": [
        "Devide the TD data set in train and test"
      ],
      "metadata": {
        "id": "Wo2cDYX0vzEX"
      }
    },
    {
      "cell_type": "code",
      "source": [
        "train_set, test_set = train_test_split(df_TD, test_size = 0.3)"
      ],
      "metadata": {
        "id": "PCfmBzL9v2lV"
      },
      "execution_count": 6,
      "outputs": []
    },
    {
      "cell_type": "markdown",
      "source": [
        "# Linear Regression\n",
        "LinearRegression fits a linear model with coefficients w = (w1, …, wp) to minimize the residual sum of squares between the observed targets in the dataset, and the targets predicted by the linear approximation."
      ],
      "metadata": {
        "id": "MoY0Wpyzv9VU"
      }
    },
    {
      "cell_type": "markdown",
      "source": [
        "# One feauture\n",
        "We can hypothesize that there is a linear dependence, for example, of cortical thickness on the subject's age. The question is: Is it possible to predict a person's age from his cortical thickness?"
      ],
      "metadata": {
        "id": "5Ga3iywFwAg6"
      }
    },
    {
      "cell_type": "code",
      "source": [
        "plt.scatter(df.AGE_AT_SCAN, df.lh_MeanThickness, color='black', marker='.')\n",
        "plt.xlabel('Age [y]')\n",
        "plt.ylabel(' lh_MeanThickness [mm]')\n",
        "plt.show()\n"
      ],
      "metadata": {
        "colab": {
          "base_uri": "https://localhost:8080/",
          "height": 300
        },
        "id": "P1KDEKHSwEh5",
        "outputId": "e19dafc5-7436-4ae3-ebf4-44e0ff6fe8e7"
      },
      "execution_count": 7,
      "outputs": [
        {
          "output_type": "display_data",
          "data": {
            "text/plain": [
              "<Figure size 432x288 with 1 Axes>"
            ],
            "image/png": "[encoded data removed]"
          },
          "metadata": {
            "needs_background": "light"
          }
        }
      ]
    },
    {
      "cell_type": "code",
      "source": [
        "model=LinearRegression()\n",
        "x_train =pd.DataFrame(data=train_set, columns=['lh_MeanThickness'])\n",
        "x_test =pd.DataFrame(data=test_set, columns=['lh_MeanThickness'])\n",
        "y_train = train_set['AGE_AT_SCAN']\n",
        "y_test= test_set['AGE_AT_SCAN']\n",
        "model=LinearRegression() #here we can add hyperparameters like angular coefficient\n",
        "model.fit(x_train, y_train)\n",
        "predict_y = model.predict(x_test)\n",
        "print(mean_squared_error(y_test, predict_y, squared=False))\n",
        "print(mean_absolute_error(y_test, predict_y))"
      ],
      "metadata": {
        "colab": {
          "base_uri": "https://localhost:8080/"
        },
        "id": "Y9aoi70Rxp3D",
        "outputId": "b680eb44-dbeb-4c6f-f31d-8baf3174d691"
      },
      "execution_count": 13,
      "outputs": [
        {
          "output_type": "stream",
          "name": "stdout",
          "text": [
            "5.903944383835433\n",
            "4.544836134828654\n"
          ]
        }
      ]
    },
    {
      "cell_type": "markdown",
      "source": [
        ".score returns the coefficient of determination R^2 of the prediction. The best possible score is 1.0"
      ],
      "metadata": {
        "id": "jBFKQiIewPgj"
      }
    },
    {
      "cell_type": "code",
      "source": [
        "plt.scatter(x_train, y_train,  color='black', marker='.')\n",
        "plt.plot(x_test, predict_y, color='blue', linewidth=3)\n",
        "plt.xlabel(f'{x_test.columns[0]} [mm]')\n",
        "plt.ylabel('Age [y]')\n",
        "plt.show()"
      ],
      "metadata": {
        "colab": {
          "base_uri": "https://localhost:8080/",
          "height": 300
        },
        "id": "yPL2ESBHwTbs",
        "outputId": "48945747-8b17-4108-f18d-d88746d63e2d"
      },
      "execution_count": 14,
      "outputs": [
        {
          "output_type": "display_data",
          "data": {
            "text/plain": [
              "<Figure size 432x288 with 1 Axes>"
            ],
            "image/png": "[encoded data removed]"
          },
          "metadata": {
            "needs_background": "light"
          }
        }
      ]
    },
    {
      "cell_type": "markdown",
      "source": [
        "# Two feautures "
      ],
      "metadata": {
        "id": "ZPVmPMUEwWfS"
      }
    },
    {
      "cell_type": "code",
      "source": [
        "features= [ 'lh_MeanThickness','TotalGrayVol',\n",
        "       ]\n",
        "x_train = train_set[features]\n",
        "x_test = test_set[features]\n",
        "y_train = train_set['AGE_AT_SCAN']\n",
        "y_test = test_set['AGE_AT_SCAN']\n",
        "model=LinearRegression() #here we can add hyperparameters like angular coefficient\n",
        "model.fit(x_train, y_train)\n",
        "predict_y = model.predict(x_test)\n",
        "print(model.coef_,model.intercept_)\n",
        "loss = model.score(x_test, y_test)\n",
        "print(loss )\n",
        "\n",
        "fig = plt.figure()\n",
        "ax = fig.add_subplot(111, projection='3d')\n",
        "    \n",
        "#ax.scatter(x_test.lh_MeanThickness, x_test.rh_MeanThickness, Y_, color='black')\n",
        "#ax.scatter(x_test_M.lh_MeanThickness, x_test.rh_MeanThickness, Y_fit_M, color='blue')\n",
        "\n",
        "ax.scatter(x_test.lh_MeanThickness, x_test.TotalGrayVol, predict_y, color='black')\n",
        "ax.scatter(x_test.lh_MeanThickness, x_test.TotalGrayVol, predict_y, color='blue')\n",
        "\n",
        "ax.set_xlabel('X Label')\n",
        "ax.set_ylabel('Y Label')\n",
        "ax.set_zlabel('y_train')\n",
        "\n"
      ],
      "metadata": {
        "colab": {
          "base_uri": "https://localhost:8080/",
          "height": 318
        },
        "id": "Qx57REU0wTgP",
        "outputId": "4776b26c-9aad-4377-e5f8-b31077e8f68d"
      },
      "execution_count": 15,
      "outputs": [
        {
          "output_type": "stream",
          "name": "stdout",
          "text": [
            "[-3.60406533e+01  6.26230867e-06] 107.30953007180534\n",
            "0.38355526068302226\n"
          ]
        },
        {
          "output_type": "execute_result",
          "data": {
            "text/plain": [
              "Text(0.5, 0, 'y_train')"
            ]
          },
          "metadata": {},
          "execution_count": 15
        },
        {
          "output_type": "display_data",
          "data": {
            "text/plain": [
              "<Figure size 432x288 with 1 Axes>"
            ],
            "image/png": "[encoded data removed]"
          },
          "metadata": {
            "needs_background": "light"
          }
        }
      ]
    },
    {
      "cell_type": "code",
      "source": [
        "# Import dependencies\n",
        "\n",
        "import plotly\n",
        "import plotly.graph_objs as go\n",
        "\n",
        "# Configure the traces for data points and fit.\n",
        "trace_data = go.Scatter3d(\n",
        "    x=x_test.lh_MeanThickness,\n",
        "    y=x_test.TotalGrayVol,\n",
        "#    y=X_feat_M.TotalGrayVol, # you can try with different features, e.g. TotalGrayVol\n",
        "    z=y_test,\n",
        "    mode='markers',\n",
        "    marker={\n",
        "        'size': 3,\n",
        "        'opacity': 0.8,\n",
        "    },\n",
        "    name='Data points'\n",
        ")\n",
        "\n",
        "trace_fit = go.Scatter3d(\n",
        "    x=x_test.lh_MeanThickness,\n",
        "    #y=X_feat_M.rh_MeanThickness,\n",
        "    y=x_test.TotalGrayVol,\n",
        "    z=predict_y,\n",
        "    mode='markers',\n",
        "    marker={\n",
        "        'size': 3,\n",
        "        'opacity': 0.8,\n",
        "    },\n",
        "        name='Fitted data'\n",
        ")\n",
        "# Configure the layout.\n",
        "layout = go.Layout(\n",
        "    margin={'l': 0, 'r': 0, 'b': 0, 't': 0},\n",
        "    scene= {\n",
        "    #\"xaxis\":{'title':'lh_MeanThickness'},\n",
        "    \"yaxis\":{'title':'rh_MeanThickness'},\n",
        "    \"yaxis\":{'title':'TotalGrayVol'},\n",
        "    \"zaxis\":{'title':'Age'}\n",
        "    }\n",
        ")\n",
        "\n",
        "data = [trace_data, trace_fit]\n",
        "\n",
        "plot_figure = go.Figure(data=data, layout=layout)\n",
        "\n",
        "# Render the plot.\n",
        "plot_figure.show()"
      ],
      "metadata": {
        "colab": {
          "base_uri": "https://localhost:8080/",
          "height": 562
        },
        "id": "JBlwvUicwjic",
        "outputId": "c074a905-ad87-4bcb-a796-4c3fb32a6c3f"
      },
      "execution_count": 16,
      "outputs": [
        {
          "output_type": "display_data",
          "data": {
            "text/html": [
              "<html>\n",
              "<head><meta charset=\"utf-8\" /></head>\n",
              "<body>\n",
              "    <div>            <script src=\"https://cdnjs.cloudflare.com/ajax/libs/mathjax/2.7.5/MathJax.js?config=TeX-AMS-MML_SVG\"></script><script type=\"text/javascript\">if (window.MathJax) {MathJax.Hub.Config({SVG: {font: \"STIX-Web\"}});}</script>                <script type=\"text/javascript\">window.PlotlyConfig = {MathJaxConfig: 'local'};</script>\n",
              "        <script src=\"https://cdn.plot.ly/plotly-2.8.3.min.js\"></script>                <div id=\"b23504f2-6d1e-4ce1-b32d-a0360fc9a20a\" class=\"plotly-graph-div\" style=\"height:525px; width:100%;\"></div>            <script type=\"text/javascript\">                                    window.PLOTLYENV=window.PLOTLYENV || {};                                    if (document.getElementById(\"b23504f2-6d1e-4ce1-b32d-a0360fc9a20a\")) {                    Plotly.newPlot(                        \"b23504f2-6d1e-4ce1-b32d-a0360fc9a20a\",                        [{\"marker\":{\"opacity\":0.8,\"size\":3},\"mode\":\"markers\",\"name\":\"Data points\",\"x\":[2.77826,2.41418,2.83428,2.63153,2.5645,2.51482,2.48314,2.67916,2.87039,2.69235,2.58165,2.59605,2.65188,2.73177,2.6409,2.68388,2.40149,2.6213,2.69616,2.63195,2.50042,2.49162,2.58366,2.78398,2.58219,2.61858,2.73929,2.40922,2.66619,2.62584,2.68083,2.47875,2.45787,2.51912,2.63608,2.61683,2.61632,2.44935,2.6762,2.50675,2.65321,2.71846,2.65349,2.70777,2.73943,2.72135,2.68345,2.45223,2.84497,2.62927,2.514,2.44508,2.6937,2.58736,2.59317,2.81653,2.7284,2.53121,2.56415,2.47573,2.79414,2.23485,2.75794,2.63475,2.72724,2.66881,2.76,2.80995,2.83846,2.58091,2.67686,2.67943,2.60827,2.70688,2.66353,2.58962,2.5751,2.69592,2.74442,2.55288,2.72344,2.85463,2.67123,2.56708,2.65292,2.57054,2.25563,2.76882,2.68436,2.8865,2.49997,2.69511,2.73598,2.75418,2.86114,2.64478,2.59196,2.53834,2.64113,2.59397,2.36645,2.69556,2.73778,2.53539,2.42727,2.58437,2.6045,2.3911,2.66021,2.33333,2.51142,2.7086,2.47539,2.52569,2.34823,2.85584,2.57433,2.46235,2.47094,2.86604,2.21797,2.51669,2.57637,2.56482,2.79132,2.70439,2.51534,2.68208,2.35902,2.77643,2.54495,2.59801,2.49993,2.64999,2.85297,2.74481,2.52955,2.61083,2.72123,2.854],\"y\":[803352.2868,620391.7287,845759.9169,770764.382,668590.7175,648873.483,701199.9118,653701.9227,775324.9345,780192.0929,630417.8675,782866.0004,739108.2344,723805.414,686505.4317,793279.2754,661058.9315,694724.4237,781557.1911,748352.1502,785815.0344,749864.0607,755160.8283,729331.951,661076.8908,737892.1159,758078.8462,724276.5545,700795.0707,758892.2193,767462.6067,635011.2437,754277.3783,800338.7176,766697.2811,639075.3118,778900.7522,560968.3194,732320.6418,789863.2984,702408.0788,858710.9748,759505.7056,801454.0486,723400.2215,629199.0328,785962.2859,716096.9269,779750.5338,698247.4743,727705.8241,649774.3823,732630.4004,695062.3503,579065.4985,737224.8052,895352.4412,809641.9723,778820.3552,677662.9126,742437.1334,648724.7371,816252.3344,770466.9453,773613.9702,728963.8318,824392.6747,757288.6953,835688.5833,759815.7199,789187.528,787439.074,715310.3399,755995.0297,778427.5106,714229.5286,724553.4719,747511.1997,785521.461,717872.7697,830359.3313,736000.951,760664.0072,614897.6518,694372.3859,750594.2495,702742.1672,737183.5131,834270.1525,870245.7049,709758.6013,706787.0584,744541.1796,783925.5466,808158.2558,759453.9135,755159.4136,665720.9087,819046.0544,787632.0262,703182.5222,779873.1002,831988.0653,670102.3644,637292.5596,693622.9466,712758.3089,598218.8834,675595.6813,602763.9267,736661.6425,835427.2076,695017.4244,616315.106,699646.7789,929782.8989,639867.3964,593692.957,619432.1316,812287.9337,707635.8305,768629.3571,677668.389,702581.8649,765170.4007,603598.6786,707952.4948,951749.4962,738416.3026,878664.286,718091.9183,729058.3964,730384.275,769485.9218,789458.9814,601652.3142,829489.936,807913.3989,757838.8171,938256.5381],\"z\":[10.46,39.2526,12.09,19.16,15.8,20.65,17.9,8.3313,10.8,12.66,9.41,14.2,12.8,8.94,15.6,15.0,48.0,11.95,12.81,14.77,16.55,19.33,26.0,17.0,15.284,28.3669,9.3,27.0,16.03,14.425,9.5,13.12,15.5,22.0,18.9,13.41,24.0,11.178,13.9,16.93,16.13,12.9391,29.0,13.18,12.5257,8.9363,7.0,16.2,10.18,12.2546,20.02,20.3,13.72,11.2,12.9,14.03,10.0,20.34,17.9,19.228,9.75,37.0,9.3,23.6,12.91,10.8,8.93,10.76,12.2,18.2177,15.27,16.0986,15.91,17.36,15.92,19.5,26.8528,25.0157,12.4,25.34,10.53,10.0,13.63,9.2,25.0,14.88,27.0,15.53,16.28,11.32,26.17,8.82,8.2,6.47,12.1,29.9685,10.2,30.66,22.0,22.4367,34.0,16.104,21.0,22.0,17.83,22.0479,11.9,15.5,8.2656,29.02,17.78,11.03,29.0,18.2,16.66,8.39,10.37,32.0,42.5,9.9165,27.0,16.5,24.6,9.66,19.66,10.4,27.9,18.2806,26.0,14.66,11.6,14.7,23.0,14.4,11.0,8.3203,15.7,17.0705,10.73,9.79],\"type\":\"scatter3d\"},{\"marker\":{\"opacity\":0.8,\"size\":3},\"mode\":\"markers\",\"name\":\"Fitted data\",\"x\":[2.77826,2.41418,2.83428,2.63153,2.5645,2.51482,2.48314,2.67916,2.87039,2.69235,2.58165,2.59605,2.65188,2.73177,2.6409,2.68388,2.40149,2.6213,2.69616,2.63195,2.50042,2.49162,2.58366,2.78398,2.58219,2.61858,2.73929,2.40922,2.66619,2.62584,2.68083,2.47875,2.45787,2.51912,2.63608,2.61683,2.61632,2.44935,2.6762,2.50675,2.65321,2.71846,2.65349,2.70777,2.73943,2.72135,2.68345,2.45223,2.84497,2.62927,2.514,2.44508,2.6937,2.58736,2.59317,2.81653,2.7284,2.53121,2.56415,2.47573,2.79414,2.23485,2.75794,2.63475,2.72724,2.66881,2.76,2.80995,2.83846,2.58091,2.67686,2.67943,2.60827,2.70688,2.66353,2.58962,2.5751,2.69592,2.74442,2.55288,2.72344,2.85463,2.67123,2.56708,2.65292,2.57054,2.25563,2.76882,2.68436,2.8865,2.49997,2.69511,2.73598,2.75418,2.86114,2.64478,2.59196,2.53834,2.64113,2.59397,2.36645,2.69556,2.73778,2.53539,2.42727,2.58437,2.6045,2.3911,2.66021,2.33333,2.51142,2.7086,2.47539,2.52569,2.34823,2.85584,2.57433,2.46235,2.47094,2.86604,2.21797,2.51669,2.57637,2.56482,2.79132,2.70439,2.51534,2.68208,2.35902,2.77643,2.54495,2.59801,2.49993,2.64999,2.85297,2.74481,2.52955,2.61083,2.72123,2.854],\"y\":[803352.2868,620391.7287,845759.9169,770764.382,668590.7175,648873.483,701199.9118,653701.9227,775324.9345,780192.0929,630417.8675,782866.0004,739108.2344,723805.414,686505.4317,793279.2754,661058.9315,694724.4237,781557.1911,748352.1502,785815.0344,749864.0607,755160.8283,729331.951,661076.8908,737892.1159,758078.8462,724276.5545,700795.0707,758892.2193,767462.6067,635011.2437,754277.3783,800338.7176,766697.2811,639075.3118,778900.7522,560968.3194,732320.6418,789863.2984,702408.0788,858710.9748,759505.7056,801454.0486,723400.2215,629199.0328,785962.2859,716096.9269,779750.5338,698247.4743,727705.8241,649774.3823,732630.4004,695062.3503,579065.4985,737224.8052,895352.4412,809641.9723,778820.3552,677662.9126,742437.1334,648724.7371,816252.3344,770466.9453,773613.9702,728963.8318,824392.6747,757288.6953,835688.5833,759815.7199,789187.528,787439.074,715310.3399,755995.0297,778427.5106,714229.5286,724553.4719,747511.1997,785521.461,717872.7697,830359.3313,736000.951,760664.0072,614897.6518,694372.3859,750594.2495,702742.1672,737183.5131,834270.1525,870245.7049,709758.6013,706787.0584,744541.1796,783925.5466,808158.2558,759453.9135,755159.4136,665720.9087,819046.0544,787632.0262,703182.5222,779873.1002,831988.0653,670102.3644,637292.5596,693622.9466,712758.3089,598218.8834,675595.6813,602763.9267,736661.6425,835427.2076,695017.4244,616315.106,699646.7789,929782.8989,639867.3964,593692.957,619432.1316,812287.9337,707635.8305,768629.3571,677668.389,702581.8649,765170.4007,603598.6786,707952.4948,951749.4962,738416.3026,878664.286,718091.9183,729058.3964,730384.275,769485.9218,789458.9814,601652.3142,829489.936,807913.3989,757838.8171,938256.5381],\"z\":[12.210064516501106,24.185990094940053,10.45663678609769,17.294234062188963,19.07019603044921,20.737220279778683,22.20667242632051,14.844536489811077,8.714123193048778,15.161280761808058,18.213048656159884,18.648740512493873,16.36256619915494,13.387447419016311,16.42887758539331,15.548501072029609,24.898016562502576,17.186744255703744,15.032514538879255,17.138744674266377,22.11377595250879,22.205797607589403,18.92178586791482,11.540373788747928,18.385582970788775,17.555104245923815,13.33105251752977,25.01531058081413,15.606895592648883,17.42495823227854,15.496753116477961,21.950397024366666,23.44980721485841,21.530767522292592,17.10477964826684,16.99935406018855,17.893364861125804,22.546312585726895,15.44355150995662,21.91099009561819,16.084804427601497,14.711968778019823,16.43227600802514,14.738682816843493,13.108838573932161,13.170536665563901,15.518177306179695,23.413978727856374,9.657991069798612,16.921562678908302,21.260446068681105,23.25633715315206,14.814779880487038,18.41208023071337,17.476275944067226,10.416678011846315,14.583184856554439,21.153295875990693,19.773102275001847,22.32633771340288,11.256269448189968,30.826590502415996,13.023194672285427,17.17632051801148,13.86262813198529,15.688870557766052,12.999928250045912,10.779471783749855,10.242917055415873,19.050048032623252,15.77588267325143,15.67230883552601,17.785269330217233,14.48608059011822,16.18892203200727,18.45065914101849,19.03862114714218,14.827957788550208,13.318018090495201,19.797607845029034,14.354939581485553,9.035864966854973,15.800168459940096,18.640968593970257,16.04493422775097,19.366041913712678,30.415939546885582,12.13591899878385,15.787899083490046,8.727931431214117,21.653705386083303,14.602123574604704,13.36557003315879,12.956267205320529,9.25311162908551,16.745865760492734,18.622639585911386,19.99504789327264,17.25059852581586,18.75355139612924,26.424671982769652,15.043592633838273,13.848316247651084,20.128805848641576,23.820056162608893,18.51082779392712,17.905160987448056,24.878955172643217,15.664612344893428,26.98948618011306,21.40951505351147,14.921519482732407,22.447270845250785,20.14156777140616,27.05919077068664,10.205778148780823,18.53604210536281,22.282715874089547,22.13431331816767,9.10237374544181,31.803876181752685,21.419772506720562,18.69924065625274,19.2715260784544,11.500266827521742,13.621468826129416,21.08845014786546,16.60576368572768,26.913098845563454,12.747645897673607,20.08478260218675,18.241141006896072,21.784311347457503,16.62091748915229,9.430463138664848,12.15251688350132,21.337417435698512,18.27291419693347,13.980443580521737,10.325157495155423],\"type\":\"scatter3d\"}],                        {\"margin\":{\"b\":0,\"l\":0,\"r\":0,\"t\":0},\"scene\":{\"yaxis\":{\"title\":{\"text\":\"TotalGrayVol\"}},\"zaxis\":{\"title\":{\"text\":\"Age\"}}},\"template\":{\"data\":{\"bar\":[{\"error_x\":{\"color\":\"#2a3f5f\"},\"error_y\":{\"color\":\"#2a3f5f\"},\"marker\":{\"line\":{\"color\":\"#E5ECF6\",\"width\":0.5},\"pattern\":{\"fillmode\":\"overlay\",\"size\":10,\"solidity\":0.2}},\"type\":\"bar\"}],\"barpolar\":[{\"marker\":{\"line\":{\"color\":\"#E5ECF6\",\"width\":0.5},\"pattern\":{\"fillmode\":\"overlay\",\"size\":10,\"solidity\":0.2}},\"type\":\"barpolar\"}],\"carpet\":[{\"aaxis\":{\"endlinecolor\":\"#2a3f5f\",\"gridcolor\":\"white\",\"linecolor\":\"white\",\"minorgridcolor\":\"white\",\"startlinecolor\":\"#2a3f5f\"},\"baxis\":{\"endlinecolor\":\"#2a3f5f\",\"gridcolor\":\"white\",\"linecolor\":\"white\",\"minorgridcolor\":\"white\",\"startlinecolor\":\"#2a3f5f\"},\"type\":\"carpet\"}],\"choropleth\":[{\"colorbar\":{\"outlinewidth\":0,\"ticks\":\"\"},\"type\":\"choropleth\"}],\"contour\":[{\"colorbar\":{\"outlinewidth\":0,\"ticks\":\"\"},\"colorscale\":[[0.0,\"#0d0887\"],[0.1111111111111111,\"#46039f\"],[0.2222222222222222,\"#7201a8\"],[0.3333333333333333,\"#9c179e\"],[0.4444444444444444,\"#bd3786\"],[0.5555555555555556,\"#d8576b\"],[0.6666666666666666,\"#ed7953\"],[0.7777777777777778,\"#fb9f3a\"],[0.8888888888888888,\"#fdca26\"],[1.0,\"#f0f921\"]],\"type\":\"contour\"}],\"contourcarpet\":[{\"colorbar\":{\"outlinewidth\":0,\"ticks\":\"\"},\"type\":\"contourcarpet\"}],\"heatmap\":[{\"colorbar\":{\"outlinewidth\":0,\"ticks\":\"\"},\"colorscale\":[[0.0,\"#0d0887\"],[0.1111111111111111,\"#46039f\"],[0.2222222222222222,\"#7201a8\"],[0.3333333333333333,\"#9c179e\"],[0.4444444444444444,\"#bd3786\"],[0.5555555555555556,\"#d8576b\"],[0.6666666666666666,\"#ed7953\"],[0.7777777777777778,\"#fb9f3a\"],[0.8888888888888888,\"#fdca26\"],[1.0,\"#f0f921\"]],\"type\":\"heatmap\"}],\"heatmapgl\":[{\"colorbar\":{\"outlinewidth\":0,\"ticks\":\"\"},\"colorscale\":[[0.0,\"#0d0887\"],[0.1111111111111111,\"#46039f\"],[0.2222222222222222,\"#7201a8\"],[0.3333333333333333,\"#9c179e\"],[0.4444444444444444,\"#bd3786\"],[0.5555555555555556,\"#d8576b\"],[0.6666666666666666,\"#ed7953\"],[0.7777777777777778,\"#fb9f3a\"],[0.8888888888888888,\"#fdca26\"],[1.0,\"#f0f921\"]],\"type\":\"heatmapgl\"}],\"histogram\":[{\"marker\":{\"pattern\":{\"fillmode\":\"overlay\",\"size\":10,\"solidity\":0.2}},\"type\":\"histogram\"}],\"histogram2d\":[{\"colorbar\":{\"outlinewidth\":0,\"ticks\":\"\"},\"colorscale\":[[0.0,\"#0d0887\"],[0.1111111111111111,\"#46039f\"],[0.2222222222222222,\"#7201a8\"],[0.3333333333333333,\"#9c179e\"],[0.4444444444444444,\"#bd3786\"],[0.5555555555555556,\"#d8576b\"],[0.6666666666666666,\"#ed7953\"],[0.7777777777777778,\"#fb9f3a\"],[0.8888888888888888,\"#fdca26\"],[1.0,\"#f0f921\"]],\"type\":\"histogram2d\"}],\"histogram2dcontour\":[{\"colorbar\":{\"outlinewidth\":0,\"ticks\":\"\"},\"colorscale\":[[0.0,\"#0d0887\"],[0.1111111111111111,\"#46039f\"],[0.2222222222222222,\"#7201a8\"],[0.3333333333333333,\"#9c179e\"],[0.4444444444444444,\"#bd3786\"],[0.5555555555555556,\"#d8576b\"],[0.6666666666666666,\"#ed7953\"],[0.7777777777777778,\"#fb9f3a\"],[0.8888888888888888,\"#fdca26\"],[1.0,\"#f0f921\"]],\"type\":\"histogram2dcontour\"}],\"mesh3d\":[{\"colorbar\":{\"outlinewidth\":0,\"ticks\":\"\"},\"type\":\"mesh3d\"}],\"parcoords\":[{\"line\":{\"colorbar\":{\"outlinewidth\":0,\"ticks\":\"\"}},\"type\":\"parcoords\"}],\"pie\":[{\"automargin\":true,\"type\":\"pie\"}],\"scatter\":[{\"marker\":{\"colorbar\":{\"outlinewidth\":0,\"ticks\":\"\"}},\"type\":\"scatter\"}],\"scatter3d\":[{\"line\":{\"colorbar\":{\"outlinewidth\":0,\"ticks\":\"\"}},\"marker\":{\"colorbar\":{\"outlinewidth\":0,\"ticks\":\"\"}},\"type\":\"scatter3d\"}],\"scattercarpet\":[{\"marker\":{\"colorbar\":{\"outlinewidth\":0,\"ticks\":\"\"}},\"type\":\"scattercarpet\"}],\"scattergeo\":[{\"marker\":{\"colorbar\":{\"outlinewidth\":0,\"ticks\":\"\"}},\"type\":\"scattergeo\"}],\"scattergl\":[{\"marker\":{\"colorbar\":{\"outlinewidth\":0,\"ticks\":\"\"}},\"type\":\"scattergl\"}],\"scattermapbox\":[{\"marker\":{\"colorbar\":{\"outlinewidth\":0,\"ticks\":\"\"}},\"type\":\"scattermapbox\"}],\"scatterpolar\":[{\"marker\":{\"colorbar\":{\"outlinewidth\":0,\"ticks\":\"\"}},\"type\":\"scatterpolar\"}],\"scatterpolargl\":[{\"marker\":{\"colorbar\":{\"outlinewidth\":0,\"ticks\":\"\"}},\"type\":\"scatterpolargl\"}],\"scatterternary\":[{\"marker\":{\"colorbar\":{\"outlinewidth\":0,\"ticks\":\"\"}},\"type\":\"scatterternary\"}],\"surface\":[{\"colorbar\":{\"outlinewidth\":0,\"ticks\":\"\"},\"colorscale\":[[0.0,\"#0d0887\"],[0.1111111111111111,\"#46039f\"],[0.2222222222222222,\"#7201a8\"],[0.3333333333333333,\"#9c179e\"],[0.4444444444444444,\"#bd3786\"],[0.5555555555555556,\"#d8576b\"],[0.6666666666666666,\"#ed7953\"],[0.7777777777777778,\"#fb9f3a\"],[0.8888888888888888,\"#fdca26\"],[1.0,\"#f0f921\"]],\"type\":\"surface\"}],\"table\":[{\"cells\":{\"fill\":{\"color\":\"#EBF0F8\"},\"line\":{\"color\":\"white\"}},\"header\":{\"fill\":{\"color\":\"#C8D4E3\"},\"line\":{\"color\":\"white\"}},\"type\":\"table\"}]},\"layout\":{\"annotationdefaults\":{\"arrowcolor\":\"#2a3f5f\",\"arrowhead\":0,\"arrowwidth\":1},\"autotypenumbers\":\"strict\",\"coloraxis\":{\"colorbar\":{\"outlinewidth\":0,\"ticks\":\"\"}},\"colorscale\":{\"diverging\":[[0,\"#8e0152\"],[0.1,\"#c51b7d\"],[0.2,\"#de77ae\"],[0.3,\"#f1b6da\"],[0.4,\"#fde0ef\"],[0.5,\"#f7f7f7\"],[0.6,\"#e6f5d0\"],[0.7,\"#b8e186\"],[0.8,\"#7fbc41\"],[0.9,\"#4d9221\"],[1,\"#276419\"]],\"sequential\":[[0.0,\"#0d0887\"],[0.1111111111111111,\"#46039f\"],[0.2222222222222222,\"#7201a8\"],[0.3333333333333333,\"#9c179e\"],[0.4444444444444444,\"#bd3786\"],[0.5555555555555556,\"#d8576b\"],[0.6666666666666666,\"#ed7953\"],[0.7777777777777778,\"#fb9f3a\"],[0.8888888888888888,\"#fdca26\"],[1.0,\"#f0f921\"]],\"sequentialminus\":[[0.0,\"#0d0887\"],[0.1111111111111111,\"#46039f\"],[0.2222222222222222,\"#7201a8\"],[0.3333333333333333,\"#9c179e\"],[0.4444444444444444,\"#bd3786\"],[0.5555555555555556,\"#d8576b\"],[0.6666666666666666,\"#ed7953\"],[0.7777777777777778,\"#fb9f3a\"],[0.8888888888888888,\"#fdca26\"],[1.0,\"#f0f921\"]]},\"colorway\":[\"#636efa\",\"#EF553B\",\"#00cc96\",\"#ab63fa\",\"#FFA15A\",\"#19d3f3\",\"#FF6692\",\"#B6E880\",\"#FF97FF\",\"#FECB52\"],\"font\":{\"color\":\"#2a3f5f\"},\"geo\":{\"bgcolor\":\"white\",\"lakecolor\":\"white\",\"landcolor\":\"#E5ECF6\",\"showlakes\":true,\"showland\":true,\"subunitcolor\":\"white\"},\"hoverlabel\":{\"align\":\"left\"},\"hovermode\":\"closest\",\"mapbox\":{\"style\":\"light\"},\"paper_bgcolor\":\"white\",\"plot_bgcolor\":\"#E5ECF6\",\"polar\":{\"angularaxis\":{\"gridcolor\":\"white\",\"linecolor\":\"white\",\"ticks\":\"\"},\"bgcolor\":\"#E5ECF6\",\"radialaxis\":{\"gridcolor\":\"white\",\"linecolor\":\"white\",\"ticks\":\"\"}},\"scene\":{\"xaxis\":{\"backgroundcolor\":\"#E5ECF6\",\"gridcolor\":\"white\",\"gridwidth\":2,\"linecolor\":\"white\",\"showbackground\":true,\"ticks\":\"\",\"zerolinecolor\":\"white\"},\"yaxis\":{\"backgroundcolor\":\"#E5ECF6\",\"gridcolor\":\"white\",\"gridwidth\":2,\"linecolor\":\"white\",\"showbackground\":true,\"ticks\":\"\",\"zerolinecolor\":\"white\"},\"zaxis\":{\"backgroundcolor\":\"#E5ECF6\",\"gridcolor\":\"white\",\"gridwidth\":2,\"linecolor\":\"white\",\"showbackground\":true,\"ticks\":\"\",\"zerolinecolor\":\"white\"}},\"shapedefaults\":{\"line\":{\"color\":\"#2a3f5f\"}},\"ternary\":{\"aaxis\":{\"gridcolor\":\"white\",\"linecolor\":\"white\",\"ticks\":\"\"},\"baxis\":{\"gridcolor\":\"white\",\"linecolor\":\"white\",\"ticks\":\"\"},\"bgcolor\":\"#E5ECF6\",\"caxis\":{\"gridcolor\":\"white\",\"linecolor\":\"white\",\"ticks\":\"\"}},\"title\":{\"x\":0.05},\"xaxis\":{\"automargin\":true,\"gridcolor\":\"white\",\"linecolor\":\"white\",\"ticks\":\"\",\"title\":{\"standoff\":15},\"zerolinecolor\":\"white\",\"zerolinewidth\":2},\"yaxis\":{\"automargin\":true,\"gridcolor\":\"white\",\"linecolor\":\"white\",\"ticks\":\"\",\"title\":{\"standoff\":15},\"zerolinecolor\":\"white\",\"zerolinewidth\":2}}}},                        {\"responsive\": true}                    ).then(function(){\n",
              "                            \n",
              "var gd = document.getElementById('b23504f2-6d1e-4ce1-b32d-a0360fc9a20a');\n",
              "var x = new MutationObserver(function (mutations, observer) {{\n",
              "        var display = window.getComputedStyle(gd).display;\n",
              "        if (!display || display === 'none') {{\n",
              "            console.log([gd, 'removed!']);\n",
              "            Plotly.purge(gd);\n",
              "            observer.disconnect();\n",
              "        }}\n",
              "}});\n",
              "\n",
              "// Listen for the removal of the full notebook cells\n",
              "var notebookContainer = gd.closest('#notebook-container');\n",
              "if (notebookContainer) {{\n",
              "    x.observe(notebookContainer, {childList: true});\n",
              "}}\n",
              "\n",
              "// Listen for the clearing of the current output cell\n",
              "var outputEl = gd.closest('.output');\n",
              "if (outputEl) {{\n",
              "    x.observe(outputEl, {childList: true});\n",
              "}}\n",
              "\n",
              "                        })                };                            </script>        </div>\n",
              "</body>\n",
              "</html>"
            ]
          },
          "metadata": {}
        }
      ]
    },
    {
      "cell_type": "markdown",
      "source": [
        "# **Multiple feautures**"
      ],
      "metadata": {
        "id": "fg2J2za9xY6-"
      }
    },
    {
      "cell_type": "code",
      "source": [
        "features = [ 'lhCortexVol', 'rhCortexVol',\n",
        "       'lhCerebralWhiteMatterVol', 'rhCerebralWhiteMatterVol', 'TotalGrayVol', 'CSF_Volume_mm3',\n",
        "       ]"
      ],
      "metadata": {
        "id": "UXA2ry5GxgLu"
      },
      "execution_count": null,
      "outputs": []
    },
    {
      "cell_type": "code",
      "source": [
        "x_train = train_set[features]\n",
        "x_test = test_set[features]\n",
        "y_train = train_set['AGE_AT_SCAN']\n",
        "y_test = test_set['AGE_AT_SCAN']"
      ],
      "metadata": {
        "id": "HKKWyTRv53IW"
      },
      "execution_count": null,
      "outputs": []
    },
    {
      "cell_type": "code",
      "source": [
        "plt.scatter(df.AGE_AT_SCAN, df.TotalGrayVol, color='black', marker='.')\n",
        "plt.xlabel('Age [y]')\n",
        "plt.ylabel(' TotalGrayVol [mm^3]')\n",
        "plt.show()\n"
      ],
      "metadata": {
        "id": "mMnl1dv6xv0K"
      },
      "execution_count": null,
      "outputs": []
    },
    {
      "cell_type": "code",
      "source": [
        "plt.scatter(df.AGE_AT_SCAN, df.CSF_Volume_mm3, color='black', marker='.')\n",
        "plt.xlabel('Age [y]')\n",
        "plt.ylabel(' CSF Volume [mm^3]')\n",
        "plt.ylim([0,2000])\n",
        "plt.show()"
      ],
      "metadata": {
        "id": "f_BmPUtzx9zl"
      },
      "execution_count": null,
      "outputs": []
    },
    {
      "cell_type": "markdown",
      "source": [
        "# Linear Regression"
      ],
      "metadata": {
        "id": "WoaIpN_Y55v6"
      }
    },
    {
      "cell_type": "code",
      "source": [
        "model=LinearRegression() #here we can add hyperparameters like angular coefficient\n",
        "model.fit(x_train, y_train)\n",
        "predict_y = model.predict(x_test)\n",
        "print(mean_squared_error(y_test, predict_y, squared=False))\n",
        "print(mean_absolute_error(y_test, predict_y))"
      ],
      "metadata": {
        "id": "HZ5-PXgkxj_R"
      },
      "execution_count": null,
      "outputs": []
    },
    {
      "cell_type": "markdown",
      "source": [
        "# Gaussian Regression"
      ],
      "metadata": {
        "id": "S3IMMae-0AoE"
      }
    },
    {
      "cell_type": "code",
      "source": [
        "model=GaussianProcessRegressor()\n",
        "model.fit(x_train, y_train)\n",
        "predict_y = model.predict(x_test)\n",
        "print(mean_squared_error(y_test, predict_y, squared=False))\n",
        "print(mean_absolute_error(y_test, predict_y))"
      ],
      "metadata": {
        "id": "0LB3ADvm0GXe"
      },
      "execution_count": null,
      "outputs": []
    },
    {
      "cell_type": "markdown",
      "source": [
        "# Random Forest"
      ],
      "metadata": {
        "id": "NU9f9mwO0OaH"
      }
    },
    {
      "cell_type": "code",
      "source": [
        "from sklearn.ensemble import RandomForestRegressor\n",
        "model = RandomForestRegressor()\n",
        "model.fit(x_train,y_train)\n",
        "predict_y = model.predict(x_test)\n",
        "print(mean_squared_error(y_test, predict_y, squared=False))\n",
        "print(mean_absolute_error(y_test, predict_y))"
      ],
      "metadata": {
        "id": "R8sheW8h0SEZ"
      },
      "execution_count": null,
      "outputs": []
    },
    {
      "cell_type": "markdown",
      "source": [
        "# Polynomial regression "
      ],
      "metadata": {
        "id": "_gjHVfsY0qe1"
      }
    },
    {
      "cell_type": "code",
      "source": [
        "from sklearn.pipeline import Pipeline\n",
        "model = Pipeline([('poly', PolynomialFeatures(degree=3)),\n",
        "                      ('linear', LinearRegression(fit_intercept=False))])\n",
        "\n",
        "model.fit(x_train, y_train)\n",
        "predict_y = model.predict(x_test)\n",
        "print(mean_squared_error(y_test, predict_y, squared=False))\n",
        "print(mean_absolute_error(y_test, predict_y))"
      ],
      "metadata": {
        "id": "bpwGE0Mv42v5"
      },
      "execution_count": null,
      "outputs": []
    },
    {
      "cell_type": "markdown",
      "source": [
        "# Pipeline\n",
        "All estimators in a pipeline, except the last one, must be transformers (i.e. must have a transform method). The last estimator may be any type (transformer, classifier, etc.)."
      ],
      "metadata": {
        "id": "G7-gabQ54suq"
      }
    },
    {
      "cell_type": "code",
      "source": [
        "from sklearn.pipeline import Pipeline\n",
        "model = Pipeline([('scaler', StandardScaler()),\n",
        "                      ('poly', PolynomialFeatures(degree=2)),\n",
        "                      ('linear', LinearRegression(fit_intercept=False))])\n",
        "\n",
        "model.fit(x_train, y_train)\n",
        "predict_y = model.predict(x_test)\n",
        "print(mean_squared_error(y_test, predict_y, squared=False))\n",
        "print(mean_absolute_error(y_test, predict_y))"
      ],
      "metadata": {
        "id": "j5XT6VOy3lbv"
      },
      "execution_count": null,
      "outputs": []
    },
    {
      "cell_type": "markdown",
      "source": [
        ""
      ],
      "metadata": {
        "id": "z3sCGrIk0bvS"
      }
    },
    {
      "cell_type": "code",
      "source": [
        "from scipy.stats import pearsonr\n",
        "plt.figure(figsize=(10,10))\n",
        "p_value = pearsonr(test_array,predict_array)\n",
        "rmse = np.sqrt(mean_squared_error(test_array, predict_array))\n",
        "r2 = r2_score(test_array, predict_array)\n",
        "plt.scatter(test_array,predict_array,c='y')\n",
        "plt.xlabel('Ground truth Age(years)')\n",
        "plt.ylabel('Predicted Age(years)')\n",
        "plt.title('Ground-truth Age versus Predict Age using \\n \\\n",
        "            Gaussian Regression ')\n",
        "plt.plot(np.linspace(15,80,100),np.linspace(15,80,100), c='r', label='Expected prediction line')\n",
        "offset = 20\n",
        "plt.text(10, 80+offset, f'Mean Absolute Error={round(loss_array.mean(),3)}',fontsize=14)\n",
        "plt.text(10, 75+offset, f'Pearson correlation coefficient:{round(p_value[0],3)}',fontsize=14)\n",
        "plt.text(10, 70+offset, f'R Squared:{round(r2,3)}',fontsize=14)\n",
        "plt.text(10, 65+offset, f'RMSE:{round(rmse,3)}',fontsize=14)\n",
        "\n",
        "plt.legend()\n",
        "plt.show()"
      ],
      "metadata": {
        "id": "HBbhED2j0emc"
      },
      "execution_count": null,
      "outputs": []
    },
    {
      "cell_type": "markdown",
      "source": [
        "# ** Feautures according to correlation to AGE AT SCAN **\n"
      ],
      "metadata": {
        "id": "XDJlMYP5Kj38"
      }
    },
    {
      "cell_type": "code",
      "source": [
        "agecorr_TD=df_TD.corr()['AGE_AT_SCAN'] #we acces to the column relative to age\n",
        "listoffeatures=agecorr_TD[np.abs(agecorr_TD)>0.5].keys()\n",
        "listoffeatures = listoffeatures.drop('AGE_AT_SCAN')\n",
        "\n",
        "x_train = train_set[listoffeatures]\n",
        "x_test = test_set[listoffeatures]\n",
        "y_train = train_set['AGE_AT_SCAN']\n",
        "y_test = test_set['AGE_AT_SCAN']\n",
        "x_train"
      ],
      "metadata": {
        "id": "nlmgJzcsK3LR",
        "colab": {
          "base_uri": "https://localhost:8080/",
          "height": 477
        },
        "outputId": "d33d5966-1fd5-4f5f-8c4f-10594206848a"
      },
      "execution_count": 30,
      "outputs": [
        {
          "output_type": "execute_result",
          "data": {
            "text/plain": [
              "     lh_cuneus_ThickAvg  lh_inferiorparietal_ThickAvg  lh_lingual_ThickAvg  \\\n",
              "362               2.017                         2.710                2.116   \n",
              "328               1.873                         2.526                2.318   \n",
              "356               2.257                         2.848                2.219   \n",
              "433               1.920                         2.485                2.010   \n",
              "357               2.238                         2.622                2.399   \n",
              "..                  ...                           ...                  ...   \n",
              "458               1.659                         2.278                1.777   \n",
              "26                1.905                         2.485                1.809   \n",
              "312               2.105                         2.573                2.241   \n",
              "454               1.458                         2.165                1.717   \n",
              "577               2.121                         2.595                2.034   \n",
              "\n",
              "     lh_paracentral_ThickAvg  lh_posteriorcingulate_ThickAvg  \\\n",
              "362                    2.813                           2.905   \n",
              "328                    2.669                           2.560   \n",
              "356                    2.972                           2.833   \n",
              "433                    2.739                           2.620   \n",
              "357                    2.602                           2.708   \n",
              "..                       ...                             ...   \n",
              "458                    2.282                           2.195   \n",
              "26                     2.566                           2.533   \n",
              "312                    2.799                           2.573   \n",
              "454                    2.078                           2.085   \n",
              "577                    2.608                           2.635   \n",
              "\n",
              "     lh_precuneus_ThickAvg  lh_superiorfrontal_ThickAvg  rh_cuneus_ThickAvg  \\\n",
              "362                  2.832                        3.116               1.942   \n",
              "328                  2.469                        2.842               1.947   \n",
              "356                  2.741                        3.224               2.369   \n",
              "433                  2.529                        2.804               1.952   \n",
              "357                  2.548                        2.780               2.103   \n",
              "..                     ...                          ...                 ...   \n",
              "458                  2.270                        2.700               1.674   \n",
              "26                   2.557                        2.877               1.879   \n",
              "312                  2.598                        2.860               2.241   \n",
              "454                  2.025                        2.576               1.611   \n",
              "577                  2.601                        2.765               2.229   \n",
              "\n",
              "     rh_inferiorparietal_ThickAvg  rh_lingual_ThickAvg  \\\n",
              "362                         2.882                2.259   \n",
              "328                         2.580                2.212   \n",
              "356                         2.923                2.475   \n",
              "433                         2.494                2.089   \n",
              "357                         2.668                2.461   \n",
              "..                            ...                  ...   \n",
              "458                         2.358                1.814   \n",
              "26                          2.485                1.971   \n",
              "312                         2.732                2.157   \n",
              "454                         2.350                1.861   \n",
              "577                         2.562                2.155   \n",
              "\n",
              "     rh_paracentral_ThickAvg  rh_precuneus_ThickAvg  \\\n",
              "362                    2.655                  2.696   \n",
              "328                    2.609                  2.446   \n",
              "356                    3.011                  2.723   \n",
              "433                    2.458                  2.428   \n",
              "357                    2.581                  2.538   \n",
              "..                       ...                    ...   \n",
              "458                    2.521                  2.203   \n",
              "26                     2.444                  2.468   \n",
              "312                    2.772                  2.673   \n",
              "454                    2.063                  2.134   \n",
              "577                    2.800                  2.524   \n",
              "\n",
              "     rh_superiorfrontal_ThickAvg  rh_superiorparietal_ThickAvg  \\\n",
              "362                        3.119                         2.537   \n",
              "328                        2.796                         2.318   \n",
              "356                        3.042                         2.656   \n",
              "433                        2.761                         2.322   \n",
              "357                        2.750                         2.308   \n",
              "..                           ...                           ...   \n",
              "458                        2.722                         2.110   \n",
              "26                         2.801                         2.195   \n",
              "312                        2.876                         2.482   \n",
              "454                        2.619                         2.037   \n",
              "577                        2.783                         2.213   \n",
              "\n",
              "     lh_MeanThickness  rh_MeanThickness  \n",
              "362           2.73636           2.72066  \n",
              "328           2.59622           2.58908  \n",
              "356           2.92109           2.89589  \n",
              "433           2.59144           2.57268  \n",
              "357           2.62217           2.67714  \n",
              "..                ...               ...  \n",
              "458           2.32160           2.34610  \n",
              "26            2.53883           2.51947  \n",
              "312           2.65512           2.65963  \n",
              "454           2.25862           2.31800  \n",
              "577           2.63882           2.63735  \n",
              "\n",
              "[324 rows x 16 columns]"
            ],
            "text/html": [
              "\n",
              "  <div id=\"df-0f762043-a652-4b3d-838f-00f4e8f5d9d4\">\n",
              "    <div class=\"colab-df-container\">\n",
              "      <div>\n",
              "<style scoped>\n",
              "    .dataframe tbody tr th:only-of-type {\n",
              "        vertical-align: middle;\n",
              "    }\n",
              "\n",
              "    .dataframe tbody tr th {\n",
              "        vertical-align: top;\n",
              "    }\n",
              "\n",
              "    .dataframe thead th {\n",
              "        text-align: right;\n",
              "    }\n",
              "</style>\n",
              "<table border=\"1\" class=\"dataframe\">\n",
              "  <thead>\n",
              "    <tr style=\"text-align: right;\">\n",
              "      <th></th>\n",
              "      <th>lh_cuneus_ThickAvg</th>\n",
              "      <th>lh_inferiorparietal_ThickAvg</th>\n",
              "      <th>lh_lingual_ThickAvg</th>\n",
              "      <th>lh_paracentral_ThickAvg</th>\n",
              "      <th>lh_posteriorcingulate_ThickAvg</th>\n",
              "      <th>lh_precuneus_ThickAvg</th>\n",
              "      <th>lh_superiorfrontal_ThickAvg</th>\n",
              "      <th>rh_cuneus_ThickAvg</th>\n",
              "      <th>rh_inferiorparietal_ThickAvg</th>\n",
              "      <th>rh_lingual_ThickAvg</th>\n",
              "      <th>rh_paracentral_ThickAvg</th>\n",
              "      <th>rh_precuneus_ThickAvg</th>\n",
              "      <th>rh_superiorfrontal_ThickAvg</th>\n",
              "      <th>rh_superiorparietal_ThickAvg</th>\n",
              "      <th>lh_MeanThickness</th>\n",
              "      <th>rh_MeanThickness</th>\n",
              "    </tr>\n",
              "  </thead>\n",
              "  <tbody>\n",
              "    <tr>\n",
              "      <th>362</th>\n",
              "      <td>2.017</td>\n",
              "      <td>2.710</td>\n",
              "      <td>2.116</td>\n",
              "      <td>2.813</td>\n",
              "      <td>2.905</td>\n",
              "      <td>2.832</td>\n",
              "      <td>3.116</td>\n",
              "      <td>1.942</td>\n",
              "      <td>2.882</td>\n",
              "      <td>2.259</td>\n",
              "      <td>2.655</td>\n",
              "      <td>2.696</td>\n",
              "      <td>3.119</td>\n",
              "      <td>2.537</td>\n",
              "      <td>2.73636</td>\n",
              "      <td>2.72066</td>\n",
              "    </tr>\n",
              "    <tr>\n",
              "      <th>328</th>\n",
              "      <td>1.873</td>\n",
              "      <td>2.526</td>\n",
              "      <td>2.318</td>\n",
              "      <td>2.669</td>\n",
              "      <td>2.560</td>\n",
              "      <td>2.469</td>\n",
              "      <td>2.842</td>\n",
              "      <td>1.947</td>\n",
              "      <td>2.580</td>\n",
              "      <td>2.212</td>\n",
              "      <td>2.609</td>\n",
              "      <td>2.446</td>\n",
              "      <td>2.796</td>\n",
              "      <td>2.318</td>\n",
              "      <td>2.59622</td>\n",
              "      <td>2.58908</td>\n",
              "    </tr>\n",
              "    <tr>\n",
              "      <th>356</th>\n",
              "      <td>2.257</td>\n",
              "      <td>2.848</td>\n",
              "      <td>2.219</td>\n",
              "      <td>2.972</td>\n",
              "      <td>2.833</td>\n",
              "      <td>2.741</td>\n",
              "      <td>3.224</td>\n",
              "      <td>2.369</td>\n",
              "      <td>2.923</td>\n",
              "      <td>2.475</td>\n",
              "      <td>3.011</td>\n",
              "      <td>2.723</td>\n",
              "      <td>3.042</td>\n",
              "      <td>2.656</td>\n",
              "      <td>2.92109</td>\n",
              "      <td>2.89589</td>\n",
              "    </tr>\n",
              "    <tr>\n",
              "      <th>433</th>\n",
              "      <td>1.920</td>\n",
              "      <td>2.485</td>\n",
              "      <td>2.010</td>\n",
              "      <td>2.739</td>\n",
              "      <td>2.620</td>\n",
              "      <td>2.529</td>\n",
              "      <td>2.804</td>\n",
              "      <td>1.952</td>\n",
              "      <td>2.494</td>\n",
              "      <td>2.089</td>\n",
              "      <td>2.458</td>\n",
              "      <td>2.428</td>\n",
              "      <td>2.761</td>\n",
              "      <td>2.322</td>\n",
              "      <td>2.59144</td>\n",
              "      <td>2.57268</td>\n",
              "    </tr>\n",
              "    <tr>\n",
              "      <th>357</th>\n",
              "      <td>2.238</td>\n",
              "      <td>2.622</td>\n",
              "      <td>2.399</td>\n",
              "      <td>2.602</td>\n",
              "      <td>2.708</td>\n",
              "      <td>2.548</td>\n",
              "      <td>2.780</td>\n",
              "      <td>2.103</td>\n",
              "      <td>2.668</td>\n",
              "      <td>2.461</td>\n",
              "      <td>2.581</td>\n",
              "      <td>2.538</td>\n",
              "      <td>2.750</td>\n",
              "      <td>2.308</td>\n",
              "      <td>2.62217</td>\n",
              "      <td>2.67714</td>\n",
              "    </tr>\n",
              "    <tr>\n",
              "      <th>...</th>\n",
              "      <td>...</td>\n",
              "      <td>...</td>\n",
              "      <td>...</td>\n",
              "      <td>...</td>\n",
              "      <td>...</td>\n",
              "      <td>...</td>\n",
              "      <td>...</td>\n",
              "      <td>...</td>\n",
              "      <td>...</td>\n",
              "      <td>...</td>\n",
              "      <td>...</td>\n",
              "      <td>...</td>\n",
              "      <td>...</td>\n",
              "      <td>...</td>\n",
              "      <td>...</td>\n",
              "      <td>...</td>\n",
              "    </tr>\n",
              "    <tr>\n",
              "      <th>458</th>\n",
              "      <td>1.659</td>\n",
              "      <td>2.278</td>\n",
              "      <td>1.777</td>\n",
              "      <td>2.282</td>\n",
              "      <td>2.195</td>\n",
              "      <td>2.270</td>\n",
              "      <td>2.700</td>\n",
              "      <td>1.674</td>\n",
              "      <td>2.358</td>\n",
              "      <td>1.814</td>\n",
              "      <td>2.521</td>\n",
              "      <td>2.203</td>\n",
              "      <td>2.722</td>\n",
              "      <td>2.110</td>\n",
              "      <td>2.32160</td>\n",
              "      <td>2.34610</td>\n",
              "    </tr>\n",
              "    <tr>\n",
              "      <th>26</th>\n",
              "      <td>1.905</td>\n",
              "      <td>2.485</td>\n",
              "      <td>1.809</td>\n",
              "      <td>2.566</td>\n",
              "      <td>2.533</td>\n",
              "      <td>2.557</td>\n",
              "      <td>2.877</td>\n",
              "      <td>1.879</td>\n",
              "      <td>2.485</td>\n",
              "      <td>1.971</td>\n",
              "      <td>2.444</td>\n",
              "      <td>2.468</td>\n",
              "      <td>2.801</td>\n",
              "      <td>2.195</td>\n",
              "      <td>2.53883</td>\n",
              "      <td>2.51947</td>\n",
              "    </tr>\n",
              "    <tr>\n",
              "      <th>312</th>\n",
              "      <td>2.105</td>\n",
              "      <td>2.573</td>\n",
              "      <td>2.241</td>\n",
              "      <td>2.799</td>\n",
              "      <td>2.573</td>\n",
              "      <td>2.598</td>\n",
              "      <td>2.860</td>\n",
              "      <td>2.241</td>\n",
              "      <td>2.732</td>\n",
              "      <td>2.157</td>\n",
              "      <td>2.772</td>\n",
              "      <td>2.673</td>\n",
              "      <td>2.876</td>\n",
              "      <td>2.482</td>\n",
              "      <td>2.65512</td>\n",
              "      <td>2.65963</td>\n",
              "    </tr>\n",
              "    <tr>\n",
              "      <th>454</th>\n",
              "      <td>1.458</td>\n",
              "      <td>2.165</td>\n",
              "      <td>1.717</td>\n",
              "      <td>2.078</td>\n",
              "      <td>2.085</td>\n",
              "      <td>2.025</td>\n",
              "      <td>2.576</td>\n",
              "      <td>1.611</td>\n",
              "      <td>2.350</td>\n",
              "      <td>1.861</td>\n",
              "      <td>2.063</td>\n",
              "      <td>2.134</td>\n",
              "      <td>2.619</td>\n",
              "      <td>2.037</td>\n",
              "      <td>2.25862</td>\n",
              "      <td>2.31800</td>\n",
              "    </tr>\n",
              "    <tr>\n",
              "      <th>577</th>\n",
              "      <td>2.121</td>\n",
              "      <td>2.595</td>\n",
              "      <td>2.034</td>\n",
              "      <td>2.608</td>\n",
              "      <td>2.635</td>\n",
              "      <td>2.601</td>\n",
              "      <td>2.765</td>\n",
              "      <td>2.229</td>\n",
              "      <td>2.562</td>\n",
              "      <td>2.155</td>\n",
              "      <td>2.800</td>\n",
              "      <td>2.524</td>\n",
              "      <td>2.783</td>\n",
              "      <td>2.213</td>\n",
              "      <td>2.63882</td>\n",
              "      <td>2.63735</td>\n",
              "    </tr>\n",
              "  </tbody>\n",
              "</table>\n",
              "<p>324 rows × 16 columns</p>\n",
              "</div>\n",
              "      <button class=\"colab-df-convert\" onclick=\"convertToInteractive('df-0f762043-a652-4b3d-838f-00f4e8f5d9d4')\"\n",
              "              title=\"Convert this dataframe to an interactive table.\"\n",
              "              style=\"display:none;\">\n",
              "        \n",
              "  <svg xmlns=\"http://www.w3.org/2000/svg\" height=\"24px\"viewBox=\"0 0 24 24\"\n",
              "       width=\"24px\">\n",
              "    <path d=\"M0 0h24v24H0V0z\" fill=\"none\"/>\n",
              "    <path d=\"M18.56 5.44l.94 2.06.94-2.06 2.06-.94-2.06-.94-.94-2.06-.94 2.06-2.06.94zm-11 1L8.5 8.5l.94-2.06 2.06-.94-2.06-.94L8.5 2.5l-.94 2.06-2.06.94zm10 10l.94 2.06.94-2.06 2.06-.94-2.06-.94-.94-2.06-.94 2.06-2.06.94z\"/><path d=\"M17.41 7.96l-1.37-1.37c-.4-.4-.92-.59-1.43-.59-.52 0-1.04.2-1.43.59L10.3 9.45l-7.72 7.72c-.78.78-.78 2.05 0 2.83L4 21.41c.39.39.9.59 1.41.59.51 0 1.02-.2 1.41-.59l7.78-7.78 2.81-2.81c.8-.78.8-2.07 0-2.86zM5.41 20L4 18.59l7.72-7.72 1.47 1.35L5.41 20z\"/>\n",
              "  </svg>\n",
              "      </button>\n",
              "      \n",
              "  <style>\n",
              "    .colab-df-container {\n",
              "      display:flex;\n",
              "      flex-wrap:wrap;\n",
              "      gap: 12px;\n",
              "    }\n",
              "\n",
              "    .colab-df-convert {\n",
              "      background-color: #E8F0FE;\n",
              "      border: none;\n",
              "      border-radius: 50%;\n",
              "      cursor: pointer;\n",
              "      display: none;\n",
              "      fill: #1967D2;\n",
              "      height: 32px;\n",
              "      padding: 0 0 0 0;\n",
              "      width: 32px;\n",
              "    }\n",
              "\n",
              "    .colab-df-convert:hover {\n",
              "      background-color: #E2EBFA;\n",
              "      box-shadow: 0px 1px 2px rgba(60, 64, 67, 0.3), 0px 1px 3px 1px rgba(60, 64, 67, 0.15);\n",
              "      fill: #174EA6;\n",
              "    }\n",
              "\n",
              "    [theme=dark] .colab-df-convert {\n",
              "      background-color: #3B4455;\n",
              "      fill: #D2E3FC;\n",
              "    }\n",
              "\n",
              "    [theme=dark] .colab-df-convert:hover {\n",
              "      background-color: #434B5C;\n",
              "      box-shadow: 0px 1px 3px 1px rgba(0, 0, 0, 0.15);\n",
              "      filter: drop-shadow(0px 1px 2px rgba(0, 0, 0, 0.3));\n",
              "      fill: #FFFFFF;\n",
              "    }\n",
              "  </style>\n",
              "\n",
              "      <script>\n",
              "        const buttonEl =\n",
              "          document.querySelector('#df-0f762043-a652-4b3d-838f-00f4e8f5d9d4 button.colab-df-convert');\n",
              "        buttonEl.style.display =\n",
              "          google.colab.kernel.accessAllowed ? 'block' : 'none';\n",
              "\n",
              "        async function convertToInteractive(key) {\n",
              "          const element = document.querySelector('#df-0f762043-a652-4b3d-838f-00f4e8f5d9d4');\n",
              "          const dataTable =\n",
              "            await google.colab.kernel.invokeFunction('convertToInteractive',\n",
              "                                                     [key], {});\n",
              "          if (!dataTable) return;\n",
              "\n",
              "          const docLinkHtml = 'Like what you see? Visit the ' +\n",
              "            '<a target=\"_blank\" href=https://colab.research.google.com/notebooks/data_table.ipynb>data table notebook</a>'\n",
              "            + ' to learn more about interactive tables.';\n",
              "          element.innerHTML = '';\n",
              "          dataTable['output_type'] = 'display_data';\n",
              "          await google.colab.output.renderOutput(dataTable, element);\n",
              "          const docLink = document.createElement('div');\n",
              "          docLink.innerHTML = docLinkHtml;\n",
              "          element.appendChild(docLink);\n",
              "        }\n",
              "      </script>\n",
              "    </div>\n",
              "  </div>\n",
              "  "
            ]
          },
          "metadata": {},
          "execution_count": 30
        }
      ]
    },
    {
      "cell_type": "markdown",
      "source": [
        "As the features (i.e. volume and thickness measures) are in different ranges of values, we rescale them column-wise to have all them in the same range. We can apply a z-score transform, i.e. with the sklearn.StandardScaler or other normalization transforms, e.g the sklearn.RobustScaler, which removes the median and scales the data according to the quantile range (defaults to IQR: Interquartile Range). The IQR is the range between the 1st quartile (25th quantile) and the 3rd quartile (75th quantile)."
      ],
      "metadata": {
        "id": "kazE6I1RSUdV"
      }
    },
    {
      "cell_type": "code",
      "source": [
        "\n",
        "x_train= StandardScaler().fit_transform(x_train)\n",
        "x_test= StandardScaler().fit_transform(x_test)\n",
        "x_train"
      ],
      "metadata": {
        "colab": {
          "base_uri": "https://localhost:8080/"
        },
        "id": "3WJtC9BiSVT8",
        "outputId": "659801dc-ea1c-4077-a9f4-87c7b9092750"
      },
      "execution_count": 32,
      "outputs": [
        {
          "output_type": "execute_result",
          "data": {
            "text/plain": [
              "array([[-0.33770375,  0.68783714, -0.40918338, ...,  1.13498975,\n",
              "         0.89479589,  0.77235756],\n",
              "       [-1.0816438 , -0.3433737 ,  0.68904232, ..., -0.14465326,\n",
              "        -0.14725038, -0.21740058],\n",
              "       [ 0.90219633,  1.46124526,  0.15080299, ...,  1.83032088,\n",
              "         2.26840233,  2.09045543],\n",
              "       ...,\n",
              "       [ 0.11692628, -0.07996658,  0.27041173, ...,  0.81361822,\n",
              "         0.29071541,  0.31328369],\n",
              "       [-3.22563768, -2.36656452, -2.57845096, ..., -1.78656963,\n",
              "        -2.65756021, -2.25649189],\n",
              "       [ 0.19958628,  0.04333037, -0.85499777, ..., -0.75818073,\n",
              "         0.16951265,  0.14569127]])"
            ]
          },
          "metadata": {},
          "execution_count": 32
        }
      ]
    },
    {
      "cell_type": "markdown",
      "source": [
        "Linear Regression\n"
      ],
      "metadata": {
        "id": "gd7ZKQ8MMA0J"
      }
    },
    {
      "cell_type": "code",
      "source": [
        "\n",
        "model=LinearRegression() #here we can add hyperparameters like angular coefficient\n",
        "model.fit(x_train, y_train)\n",
        "predict_y = model.predict(x_test)\n",
        "print(mean_squared_error(y_test, predict_y, squared=False))\n",
        "print(mean_absolute_error(y_test, predict_y))"
      ],
      "metadata": {
        "id": "5PGewpv5MCqH",
        "outputId": "8da89461-9301-4852-96f4-c1555fa3278a",
        "colab": {
          "base_uri": "https://localhost:8080/"
        }
      },
      "execution_count": 34,
      "outputs": [
        {
          "output_type": "stream",
          "name": "stdout",
          "text": [
            "5.084216212386739\n",
            "4.064835668084952\n"
          ]
        }
      ]
    },
    {
      "cell_type": "markdown",
      "source": [
        "# **K-Fold**\n",
        "The k-fold cross-validation procedure is a standard method for estimating the performance of a machine learning algorithm on a dataset.\n",
        "The k-fold cross-validation procedure divides a limited dataset into k non-overlapping folds. Each of the k folds is given an opportunity to be used as a held-back test set, whilst all other folds collectively are used as a training dataset.\n",
        "The k-fold cross-validation procedure can be implemented easily using the scikit-learn machine learning library.\n",
        "We will evaluate a Linear model and use the KFold class to perform the cross-validation, configured to shuffle the dataset and set k=10, a popular default."
      ],
      "metadata": {
        "id": "Ueuqi_hUCYWm"
      }
    },
    {
      "cell_type": "code",
      "source": [
        "from sklearn.model_selection import KFold\n",
        "from sklearn.model_selection import cross_val_score\n",
        "from sklearn.linear_model import LogisticRegression"
      ],
      "metadata": {
        "id": "mAE1NIXNN68H"
      },
      "execution_count": 24,
      "outputs": []
    },
    {
      "cell_type": "markdown",
      "source": [
        "We define a function which implements the k-fold CV, computes and averages the AUC values over the folds and provides plots of the ROC curve."
      ],
      "metadata": {
        "id": "5dFIPMowR3uz"
      }
    },
    {
      "cell_type": "code",
      "source": [
        "from sklearn.model_selection import StratifiedKFold\n",
        "from sklearn.metrics import roc_curve, auc\n",
        "import numpy as np\n",
        "from numpy import interp\n",
        "from sklearn.preprocessing import RobustScaler, StandardScaler\n",
        "from sklearn.pipeline import Pipeline"
      ],
      "metadata": {
        "id": "xw1P3-vfVI6P"
      },
      "execution_count": 42,
      "outputs": []
    },
    {
      "cell_type": "code",
      "source": [
        "def plot_cv_roc(X, y, classifier, n_splits=5, scaler=None):\n",
        "  \"\"\"\n",
        "  plot_cv_roc trains the classifier on X data with y labels, implements the\n",
        "  k-fold-CV with k=n_splits, may implement a feature scaling function.\n",
        "  It plots the ROC curves for each k fold and their average and displays \n",
        "  the corresponding AUC values and the standard deviation over the k folders.\n",
        "  \"\"\"\n",
        "  if scaler:\n",
        "    model = Pipeline([('scaler', scaler()),\n",
        "                    ('classifier', classifier)])\n",
        "  else:\n",
        "    model = classifier\n",
        "\n",
        "  try:\n",
        "    y = y.to_numpy()\n",
        "    X = X.to_numpy()\n",
        "  except AttributeError:\n",
        "    pass\n",
        "    \n",
        "  cv = StratifiedKFold(n_splits)\n",
        "\n",
        "  tprs = [] #True positive rate\n",
        "  aucs = [] #Area under the ROC Curve\n",
        "  interp_fpr = np.linspace(0, 1, 100)\n",
        "  plt.figure()\n",
        "  i = 0\n",
        "  for train, test in cv.split(X, y):\n",
        "    probas_ = model.fit(X[train], y[train]).predict_proba(X[test])\n",
        "    # Compute ROC curve and area under the curve\n",
        "    fpr, tpr, thresholds = roc_curve(y[test], probas_[:, 1])\n",
        "#      print(f\"{fpr} - {tpr} - {thresholds}\\n\")\n",
        "    interp_tpr = interp(interp_fpr, fpr, tpr)\n",
        "    tprs.append(interp_tpr)\n",
        "    \n",
        "    roc_auc = auc(fpr, tpr)\n",
        "    aucs.append(roc_auc)\n",
        "    plt.plot(fpr, tpr, lw=1, alpha=0.3,\n",
        "            label=f'ROC fold {i} (AUC = {roc_auc:.2f})')\n",
        "    i += 1\n",
        "  plt.legend()\n",
        "  plt.xlabel('False Positive Rate (FPR)')\n",
        "  plt.ylabel('True Positive Rate (TPR)')\n",
        "  plt.show()\n",
        "\n",
        "  plt.figure()\n",
        "  plt.plot([0, 1], [0, 1], linestyle='--', lw=2, color='r',\n",
        "        label='Chance', alpha=.8)\n",
        "\n",
        "  mean_tpr = np.mean(tprs, axis=0)\n",
        "  mean_tpr[-1] = 1.0\n",
        "  mean_auc = auc(interp_fpr, mean_tpr)\n",
        "  std_auc = np.std(aucs)\n",
        "  plt.plot(interp_fpr, mean_tpr, color='b',\n",
        "          label=f'Mean ROC (AUC = {mean_auc:.2f} $\\pm$ {std_auc:.2f})',\n",
        "          lw=2, alpha=.8)\n",
        "\n",
        "  std_tpr = np.std(tprs, axis=0)\n",
        "  tprs_upper = np.minimum(mean_tpr + std_tpr, 1)\n",
        "  tprs_lower = np.maximum(mean_tpr - std_tpr, 0)\n",
        "  plt.fill_between(interp_fpr, tprs_lower, tprs_upper, color='grey', alpha=.2,\n",
        "                  label=r'$\\pm$ 1 std. dev.')\n",
        "\n",
        "  plt.xlim([-0.01, 1.01])\n",
        "  plt.ylim([-0.01, 1.01])\n",
        "  plt.xlabel('False Positive Rate',fontsize=18)\n",
        "  plt.ylabel('True Positive Rate',fontsize=18)\n",
        "  plt.title('Cross-Validation ROC of SVM',fontsize=18)\n",
        "  plt.legend(loc=\"lower right\", prop={'size': 15})\n",
        "  plt.show()\n",
        "\n"
      ],
      "metadata": {
        "id": "EjmZ4GvuR16p"
      },
      "execution_count": 48,
      "outputs": []
    },
    {
      "cell_type": "code",
      "source": [
        "X = df_TD[listoffeatures]\n",
        "y = df_TD['AGE_AT_SCAN']\n",
        "X = StandardScaler().fit_transform(X)\n",
        "print(y)\n",
        "classifier = SVC(kernel='linear', probability=True)\n",
        "plot_cv_roc(X,y, classifier, 5, scaler=RobustScaler)"
      ],
      "metadata": {
        "colab": {
          "base_uri": "https://localhost:8080/",
          "height": 569
        },
        "id": "pdeMrS8GVgVE",
        "outputId": "6d751bf4-cbb4-4ba5-cfc3-5d8b0e5aaa29"
      },
      "execution_count": 49,
      "outputs": [
        {
          "output_type": "stream",
          "name": "stdout",
          "text": [
            "15     44.20\n",
            "16     39.30\n",
            "17     42.50\n",
            "18     19.70\n",
            "19     27.90\n",
            "       ...  \n",
            "890    14.17\n",
            "891    10.92\n",
            "892    14.00\n",
            "893    15.25\n",
            "894    12.33\n",
            "Name: AGE_AT_SCAN, Length: 464, dtype: float64\n"
          ]
        },
        {
          "output_type": "error",
          "ename": "ValueError",
          "evalue": "ignored",
          "traceback": [
            "\u001b[0;31m---------------------------------------------------------------------------\u001b[0m",
            "\u001b[0;31mValueError\u001b[0m                                Traceback (most recent call last)",
            "\u001b[0;32m<ipython-input-49-00b3159a3418>\u001b[0m in \u001b[0;36m<module>\u001b[0;34m()\u001b[0m\n\u001b[1;32m      4\u001b[0m \u001b[0mprint\u001b[0m\u001b[0;34m(\u001b[0m\u001b[0my\u001b[0m\u001b[0;34m)\u001b[0m\u001b[0;34m\u001b[0m\u001b[0;34m\u001b[0m\u001b[0m\n\u001b[1;32m      5\u001b[0m \u001b[0mclassifier\u001b[0m \u001b[0;34m=\u001b[0m \u001b[0mSVC\u001b[0m\u001b[0;34m(\u001b[0m\u001b[0mkernel\u001b[0m\u001b[0;34m=\u001b[0m\u001b[0;34m'linear'\u001b[0m\u001b[0;34m,\u001b[0m \u001b[0mprobability\u001b[0m\u001b[0;34m=\u001b[0m\u001b[0;32mTrue\u001b[0m\u001b[0;34m)\u001b[0m\u001b[0;34m\u001b[0m\u001b[0;34m\u001b[0m\u001b[0m\n\u001b[0;32m----> 6\u001b[0;31m \u001b[0mplot_cv_roc\u001b[0m\u001b[0;34m(\u001b[0m\u001b[0mX\u001b[0m\u001b[0;34m,\u001b[0m\u001b[0my\u001b[0m\u001b[0;34m,\u001b[0m \u001b[0mclassifier\u001b[0m\u001b[0;34m,\u001b[0m \u001b[0;36m5\u001b[0m\u001b[0;34m,\u001b[0m \u001b[0mscaler\u001b[0m\u001b[0;34m=\u001b[0m\u001b[0mRobustScaler\u001b[0m\u001b[0;34m)\u001b[0m\u001b[0;34m\u001b[0m\u001b[0;34m\u001b[0m\u001b[0m\n\u001b[0m",
            "\u001b[0;32m<ipython-input-48-f3ebc8a44b8f>\u001b[0m in \u001b[0;36mplot_cv_roc\u001b[0;34m(X, y, classifier, n_splits, scaler)\u001b[0m\n\u001b[1;32m     25\u001b[0m   \u001b[0mplt\u001b[0m\u001b[0;34m.\u001b[0m\u001b[0mfigure\u001b[0m\u001b[0;34m(\u001b[0m\u001b[0;34m)\u001b[0m\u001b[0;34m\u001b[0m\u001b[0;34m\u001b[0m\u001b[0m\n\u001b[1;32m     26\u001b[0m   \u001b[0mi\u001b[0m \u001b[0;34m=\u001b[0m \u001b[0;36m0\u001b[0m\u001b[0;34m\u001b[0m\u001b[0;34m\u001b[0m\u001b[0m\n\u001b[0;32m---> 27\u001b[0;31m   \u001b[0;32mfor\u001b[0m \u001b[0mtrain\u001b[0m\u001b[0;34m,\u001b[0m \u001b[0mtest\u001b[0m \u001b[0;32min\u001b[0m \u001b[0mcv\u001b[0m\u001b[0;34m.\u001b[0m\u001b[0msplit\u001b[0m\u001b[0;34m(\u001b[0m\u001b[0mX\u001b[0m\u001b[0;34m,\u001b[0m \u001b[0my\u001b[0m\u001b[0;34m)\u001b[0m\u001b[0;34m:\u001b[0m\u001b[0;34m\u001b[0m\u001b[0;34m\u001b[0m\u001b[0m\n\u001b[0m\u001b[1;32m     28\u001b[0m     \u001b[0mprobas_\u001b[0m \u001b[0;34m=\u001b[0m \u001b[0mmodel\u001b[0m\u001b[0;34m.\u001b[0m\u001b[0mfit\u001b[0m\u001b[0;34m(\u001b[0m\u001b[0mX\u001b[0m\u001b[0;34m[\u001b[0m\u001b[0mtrain\u001b[0m\u001b[0;34m]\u001b[0m\u001b[0;34m,\u001b[0m \u001b[0my\u001b[0m\u001b[0;34m[\u001b[0m\u001b[0mtrain\u001b[0m\u001b[0;34m]\u001b[0m\u001b[0;34m)\u001b[0m\u001b[0;34m.\u001b[0m\u001b[0mpredict_proba\u001b[0m\u001b[0;34m(\u001b[0m\u001b[0mX\u001b[0m\u001b[0;34m[\u001b[0m\u001b[0mtest\u001b[0m\u001b[0;34m]\u001b[0m\u001b[0;34m)\u001b[0m\u001b[0;34m\u001b[0m\u001b[0;34m\u001b[0m\u001b[0m\n\u001b[1;32m     29\u001b[0m     \u001b[0;31m# Compute ROC curve and area under the curve\u001b[0m\u001b[0;34m\u001b[0m\u001b[0;34m\u001b[0m\u001b[0;34m\u001b[0m\u001b[0m\n",
            "\u001b[0;32m/usr/local/lib/python3.7/dist-packages/sklearn/model_selection/_split.py\u001b[0m in \u001b[0;36msplit\u001b[0;34m(self, X, y, groups)\u001b[0m\n\u001b[1;32m    338\u001b[0m             )\n\u001b[1;32m    339\u001b[0m \u001b[0;34m\u001b[0m\u001b[0m\n\u001b[0;32m--> 340\u001b[0;31m         \u001b[0;32mfor\u001b[0m \u001b[0mtrain\u001b[0m\u001b[0;34m,\u001b[0m \u001b[0mtest\u001b[0m \u001b[0;32min\u001b[0m \u001b[0msuper\u001b[0m\u001b[0;34m(\u001b[0m\u001b[0;34m)\u001b[0m\u001b[0;34m.\u001b[0m\u001b[0msplit\u001b[0m\u001b[0;34m(\u001b[0m\u001b[0mX\u001b[0m\u001b[0;34m,\u001b[0m \u001b[0my\u001b[0m\u001b[0;34m,\u001b[0m \u001b[0mgroups\u001b[0m\u001b[0;34m)\u001b[0m\u001b[0;34m:\u001b[0m\u001b[0;34m\u001b[0m\u001b[0;34m\u001b[0m\u001b[0m\n\u001b[0m\u001b[1;32m    341\u001b[0m             \u001b[0;32myield\u001b[0m \u001b[0mtrain\u001b[0m\u001b[0;34m,\u001b[0m \u001b[0mtest\u001b[0m\u001b[0;34m\u001b[0m\u001b[0;34m\u001b[0m\u001b[0m\n\u001b[1;32m    342\u001b[0m \u001b[0;34m\u001b[0m\u001b[0m\n",
            "\u001b[0;32m/usr/local/lib/python3.7/dist-packages/sklearn/model_selection/_split.py\u001b[0m in \u001b[0;36msplit\u001b[0;34m(self, X, y, groups)\u001b[0m\n\u001b[1;32m     84\u001b[0m         \u001b[0mX\u001b[0m\u001b[0;34m,\u001b[0m \u001b[0my\u001b[0m\u001b[0;34m,\u001b[0m \u001b[0mgroups\u001b[0m \u001b[0;34m=\u001b[0m \u001b[0mindexable\u001b[0m\u001b[0;34m(\u001b[0m\u001b[0mX\u001b[0m\u001b[0;34m,\u001b[0m \u001b[0my\u001b[0m\u001b[0;34m,\u001b[0m \u001b[0mgroups\u001b[0m\u001b[0;34m)\u001b[0m\u001b[0;34m\u001b[0m\u001b[0;34m\u001b[0m\u001b[0m\n\u001b[1;32m     85\u001b[0m         \u001b[0mindices\u001b[0m \u001b[0;34m=\u001b[0m \u001b[0mnp\u001b[0m\u001b[0;34m.\u001b[0m\u001b[0marange\u001b[0m\u001b[0;34m(\u001b[0m\u001b[0m_num_samples\u001b[0m\u001b[0;34m(\u001b[0m\u001b[0mX\u001b[0m\u001b[0;34m)\u001b[0m\u001b[0;34m)\u001b[0m\u001b[0;34m\u001b[0m\u001b[0;34m\u001b[0m\u001b[0m\n\u001b[0;32m---> 86\u001b[0;31m         \u001b[0;32mfor\u001b[0m \u001b[0mtest_index\u001b[0m \u001b[0;32min\u001b[0m \u001b[0mself\u001b[0m\u001b[0;34m.\u001b[0m\u001b[0m_iter_test_masks\u001b[0m\u001b[0;34m(\u001b[0m\u001b[0mX\u001b[0m\u001b[0;34m,\u001b[0m \u001b[0my\u001b[0m\u001b[0;34m,\u001b[0m \u001b[0mgroups\u001b[0m\u001b[0;34m)\u001b[0m\u001b[0;34m:\u001b[0m\u001b[0;34m\u001b[0m\u001b[0;34m\u001b[0m\u001b[0m\n\u001b[0m\u001b[1;32m     87\u001b[0m             \u001b[0mtrain_index\u001b[0m \u001b[0;34m=\u001b[0m \u001b[0mindices\u001b[0m\u001b[0;34m[\u001b[0m\u001b[0mnp\u001b[0m\u001b[0;34m.\u001b[0m\u001b[0mlogical_not\u001b[0m\u001b[0;34m(\u001b[0m\u001b[0mtest_index\u001b[0m\u001b[0;34m)\u001b[0m\u001b[0;34m]\u001b[0m\u001b[0;34m\u001b[0m\u001b[0;34m\u001b[0m\u001b[0m\n\u001b[1;32m     88\u001b[0m             \u001b[0mtest_index\u001b[0m \u001b[0;34m=\u001b[0m \u001b[0mindices\u001b[0m\u001b[0;34m[\u001b[0m\u001b[0mtest_index\u001b[0m\u001b[0;34m]\u001b[0m\u001b[0;34m\u001b[0m\u001b[0;34m\u001b[0m\u001b[0m\n",
            "\u001b[0;32m/usr/local/lib/python3.7/dist-packages/sklearn/model_selection/_split.py\u001b[0m in \u001b[0;36m_iter_test_masks\u001b[0;34m(self, X, y, groups)\u001b[0m\n\u001b[1;32m    707\u001b[0m \u001b[0;34m\u001b[0m\u001b[0m\n\u001b[1;32m    708\u001b[0m     \u001b[0;32mdef\u001b[0m \u001b[0m_iter_test_masks\u001b[0m\u001b[0;34m(\u001b[0m\u001b[0mself\u001b[0m\u001b[0;34m,\u001b[0m \u001b[0mX\u001b[0m\u001b[0;34m,\u001b[0m \u001b[0my\u001b[0m\u001b[0;34m=\u001b[0m\u001b[0;32mNone\u001b[0m\u001b[0;34m,\u001b[0m \u001b[0mgroups\u001b[0m\u001b[0;34m=\u001b[0m\u001b[0;32mNone\u001b[0m\u001b[0;34m)\u001b[0m\u001b[0;34m:\u001b[0m\u001b[0;34m\u001b[0m\u001b[0;34m\u001b[0m\u001b[0m\n\u001b[0;32m--> 709\u001b[0;31m         \u001b[0mtest_folds\u001b[0m \u001b[0;34m=\u001b[0m \u001b[0mself\u001b[0m\u001b[0;34m.\u001b[0m\u001b[0m_make_test_folds\u001b[0m\u001b[0;34m(\u001b[0m\u001b[0mX\u001b[0m\u001b[0;34m,\u001b[0m \u001b[0my\u001b[0m\u001b[0;34m)\u001b[0m\u001b[0;34m\u001b[0m\u001b[0;34m\u001b[0m\u001b[0m\n\u001b[0m\u001b[1;32m    710\u001b[0m         \u001b[0;32mfor\u001b[0m \u001b[0mi\u001b[0m \u001b[0;32min\u001b[0m \u001b[0mrange\u001b[0m\u001b[0;34m(\u001b[0m\u001b[0mself\u001b[0m\u001b[0;34m.\u001b[0m\u001b[0mn_splits\u001b[0m\u001b[0;34m)\u001b[0m\u001b[0;34m:\u001b[0m\u001b[0;34m\u001b[0m\u001b[0;34m\u001b[0m\u001b[0m\n\u001b[1;32m    711\u001b[0m             \u001b[0;32myield\u001b[0m \u001b[0mtest_folds\u001b[0m \u001b[0;34m==\u001b[0m \u001b[0mi\u001b[0m\u001b[0;34m\u001b[0m\u001b[0;34m\u001b[0m\u001b[0m\n",
            "\u001b[0;32m/usr/local/lib/python3.7/dist-packages/sklearn/model_selection/_split.py\u001b[0m in \u001b[0;36m_make_test_folds\u001b[0;34m(self, X, y)\u001b[0m\n\u001b[1;32m    652\u001b[0m             raise ValueError(\n\u001b[1;32m    653\u001b[0m                 \"Supported target types are: {}. Got {!r} instead.\".format(\n\u001b[0;32m--> 654\u001b[0;31m                     \u001b[0mallowed_target_types\u001b[0m\u001b[0;34m,\u001b[0m \u001b[0mtype_of_target_y\u001b[0m\u001b[0;34m\u001b[0m\u001b[0;34m\u001b[0m\u001b[0m\n\u001b[0m\u001b[1;32m    655\u001b[0m                 )\n\u001b[1;32m    656\u001b[0m             )\n",
            "\u001b[0;31mValueError\u001b[0m: Supported target types are: ('binary', 'multiclass'). Got 'continuous' instead."
          ]
        },
        {
          "output_type": "display_data",
          "data": {
            "text/plain": [
              "<Figure size 432x288 with 0 Axes>"
            ]
          },
          "metadata": {}
        }
      ]
    }
  ]
}