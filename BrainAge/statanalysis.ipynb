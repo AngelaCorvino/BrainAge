{
  "nbformat": 4,
  "nbformat_minor": 0,
  "metadata": {
    "colab": {
      "name": "statanalysis.ipynb",
      "provenance": [],
      "authorship_tag": "ABX9TyNJYaxn6BQOif0+caKtEd3U",
      "include_colab_link": true
    },
    "kernelspec": {
      "name": "python3",
      "display_name": "Python 3"
    },
    "language_info": {
      "name": "python"
    }
  },
  "cells": [
    {
      "cell_type": "markdown",
      "metadata": {
        "id": "view-in-github",
        "colab_type": "text"
      },
      "source": [
        "<a href=\"https://colab.research.google.com/github/AngelaCorvino/BrainAge/blob/main/statanalysis.ipynb\" target=\"_parent\"><img src=\"https://colab.research.google.com/assets/colab-badge.svg\" alt=\"Open In Colab\"/></a>"
      ]
    },
    {
      "cell_type": "code",
      "source": [
        "import pandas as pd\n",
        "import matplotlib.pyplot as plt\n",
        "import seaborn as sns\n",
        "import numpy as np\n",
        "import scipy.stats"
      ],
      "metadata": {
        "id": "YL9yWkbCcOgK"
      },
      "execution_count": 1,
      "outputs": []
    },
    {
      "cell_type": "code",
      "execution_count": 2,
      "metadata": {
        "id": "LbPgzKiScHYu"
      },
      "outputs": [],
      "source": [
        "dataset_file = 'https://raw.githubusercontent.com/AngelaCorvino/BrainAge/main/data/FS_features_ABIDE_males.csv'\n",
        "df = pd.read_csv(dataset_file,sep=';')\n",
        "df['Site'] = df.FILE_ID.apply(lambda x: x.split('_')[0])\n",
        "df_ASD=df.loc[df.DX_GROUP==1]\n",
        "df_TD=df.loc[df.DX_GROUP==-1]"
      ]
    },
    {
      "cell_type": "markdown",
      "source": [
        "# Permutation test"
      ],
      "metadata": {
        "id": "rw75VXtJegM9"
      }
    },
    {
      "cell_type": "markdown",
      "source": [
        "we define two classes with and age treshold and we want to test if the variable difference between the mean value of CSF (CSF1.mean-CSF2.mean) on the two classes is rapresentative "
      ],
      "metadata": {
        "id": "SvUmWuFrdWuW"
      }
    },
    {
      "cell_type": "code",
      "source": [
        "df_TD[df_TD.AGE_AT_SCAN>0].hist('AGE_AT_SCAN')\n",
        "df_TD1 = df_TD[df_TD.AGE_AT_SCAN<20]\n",
        "df_TD2 = df_TD[df_TD.AGE_AT_SCAN>20]\n",
        "print(df_TD1.shape,df_TD2.shape)"
      ],
      "metadata": {
        "colab": {
          "base_uri": "https://localhost:8080/",
          "height": 318
        },
        "id": "4-6fCKi0ddje",
        "outputId": "5f5f2f4f-f12f-4be9-c0bb-41976cee4b77"
      },
      "execution_count": 12,
      "outputs": [
        {
          "output_type": "stream",
          "name": "stdout",
          "text": [
            "(330, 425) (132, 425)\n"
          ]
        },
        {
          "output_type": "display_data",
          "data": {
            "text/plain": [
              "<Figure size 432x288 with 1 Axes>"
            ],
            "image/png": "[encoded data removed]"
          },
          "metadata": {
            "needs_background": "light"
          }
        }
      ]
    },
    {
      "cell_type": "code",
      "source": [
        "CSF1 = df_TD1['CSF_Volume_mm3']\n",
        "CSF2 = df_TD2['CSF_Volume_mm3']"
      ],
      "metadata": {
        "id": "FMOpgNEzhgUk"
      },
      "execution_count": 13,
      "outputs": []
    },
    {
      "cell_type": "code",
      "source": [
        "Avg_obs_diff =CSF1.mean()-CSF2.mean()\n",
        "Avg_obs_diff "
      ],
      "metadata": {
        "colab": {
          "base_uri": "https://localhost:8080/"
        },
        "id": "mX6Hw5eVelEs",
        "outputId": "575bf33e-8124-4815-c817-f17e219f269e"
      },
      "execution_count": 29,
      "outputs": [
        {
          "output_type": "execute_result",
          "data": {
            "text/plain": [
              "-105.30787878787885"
            ]
          },
          "metadata": {},
          "execution_count": 29
        }
      ]
    },
    {
      "cell_type": "code",
      "source": [
        "n_perm = 1000\n",
        "n_examples=CSF1.shape[0]+CSF2.shape[0]\n",
        "n_examples"
      ],
      "metadata": {
        "colab": {
          "base_uri": "https://localhost:8080/"
        },
        "id": "c1jsJrNjlmk8",
        "outputId": "b326ce58-3a89-4ce6-e106-bf3062af5560"
      },
      "execution_count": 30,
      "outputs": [
        {
          "output_type": "execute_result",
          "data": {
            "text/plain": [
              "462"
            ]
          },
          "metadata": {},
          "execution_count": 30
        }
      ]
    },
    {
      "cell_type": "markdown",
      "source": [
        "We want an array with the differences between the means of the CFSF volume of the two groups under the null hypothesis. With this goal we append CSF1 and CSF2 and we do a permutation on the values in ordert to mix the order of the elements of CSF_all"
      ],
      "metadata": {
        "id": "LVMCVYNimAcD"
      }
    },
    {
      "cell_type": "code",
      "source": [
        "CSF_all = np.append(CSF1,CSF2)\n",
        "Avg_diff_perm = []\n",
        "for i in range(n_perm):\n",
        "    perm_i = np.random.permutation(CSF_all)\n",
        "    avg_A = perm_i[1:CSF1.shape[0]].mean() \n",
        "    avg_B = perm_i[CSF1.shape[0]:n_examples].mean()\n",
        "    Avg_diff_perm = np.append(Avg_diff_perm, avg_A - avg_B)\n",
        "Avg_diff_perm.shape"
      ],
      "metadata": {
        "colab": {
          "base_uri": "https://localhost:8080/"
        },
        "id": "u45HzT8jl1mX",
        "outputId": "ebc855c1-d425-4a7a-a696-c241779d5dfa"
      },
      "execution_count": 31,
      "outputs": [
        {
          "output_type": "execute_result",
          "data": {
            "text/plain": [
              "(1000,)"
            ]
          },
          "metadata": {},
          "execution_count": 31
        }
      ]
    },
    {
      "cell_type": "markdown",
      "source": [
        "We plot the histogram with  a vertical red line indicating the measured difference between the means of the CSF volume  of the two groups groups (i.e. the difference in the mean values obtained with the correct group labels)"
      ],
      "metadata": {
        "id": "S3UvBTTFmruy"
      }
    },
    {
      "cell_type": "code",
      "source": [
        "_ = plt.hist(Avg_diff_perm, 25, histtype='step')\n",
        "plt.hist(Avg_diff_perm, 25, histtype='step')\n",
        "plt.axvline(Avg_obs_diff, linestyle='--', color='red')"
      ],
      "metadata": {
        "colab": {
          "base_uri": "https://localhost:8080/",
          "height": 302
        },
        "id": "UUvcfHmCmq3X",
        "outputId": "526b5c76-be92-442b-c04d-307c04980156"
      },
      "execution_count": 32,
      "outputs": [
        {
          "output_type": "execute_result",
          "data": {
            "text/plain": [
              "<matplotlib.lines.Line2D at 0x7f55b1bdbf50>"
            ]
          },
          "metadata": {},
          "execution_count": 32
        },
        {
          "output_type": "display_data",
          "data": {
            "text/plain": [
              "<Figure size 432x288 with 1 Axes>"
            ],
            "image/png": "[encoded data removed]"
          },
          "metadata": {
            "needs_background": "light"
          }
        }
      ]
    },
    {
      "cell_type": "markdown",
      "source": [
        "## Evaluation of the empirical $p$-value\n",
        "\n",
        "We want to know if the CSF volume can be a good variable to describe the age of an healthy subject\n",
        "\n",
        "How many of the null means are bigger than the observed value? That proportion would be the $p$-value for the null hypothesis.\n",
        "\n",
        "$p = \\frac{r+1}{N+1}$\n",
        "\n",
        "where $N$ is the number of permutations and r is the number of times that $t_i > t_{obs}$ \n",
        "\n",
        "We add a 1 to the numerator and denominator to account for misestimation of the p-value (see the reference \"Permutation p-values should never be zero: calculating exact P-values when permutations are randomly drawn\" https://pubmed.ncbi.nlm.nih.gov/21044043/ )"
      ],
      "metadata": {
        "id": "2WArPveBcxUN"
      }
    },
    {
      "cell_type": "markdown",
      "source": [
        ""
      ],
      "metadata": {
        "id": "PBm6RLVqoPfb"
      }
    },
    {
      "cell_type": "code",
      "source": [
        ""
      ],
      "metadata": {
        "id": "QflTCDvSoP2z"
      },
      "execution_count": null,
      "outputs": []
    },
    {
      "cell_type": "code",
      "source": [
        "Avg_diff_perm[abs(Avg_diff_perm) > abs(Avg_obs_diff)].shape[0]"
      ],
      "metadata": {
        "colab": {
          "base_uri": "https://localhost:8080/"
        },
        "id": "pr3X-xLsoP9v",
        "outputId": "59007127-db08-4c67-f809-4fdd27500b90"
      },
      "execution_count": 27,
      "outputs": [
        {
          "output_type": "execute_result",
          "data": {
            "text/plain": [
              "0"
            ]
          },
          "metadata": {},
          "execution_count": 27
        }
      ]
    },
    {
      "cell_type": "code",
      "source": [
        "#r = Avg_diff_perm[Avg_diff_perm > Avg_obs_diff].shape[0]\n",
        "r=Avg_diff_perm[abs(Avg_diff_perm) > abs(Avg_obs_diff)].shape[0]\n",
        "p_value = (r + 1 )/ (n_perm +1)\n",
        "if r == 0:\n",
        "  print(f'The p value is p < {p_value:.3f}')\n",
        "else:\n",
        "  print(f'The p value is p = {p_value:.3f}')\n",
        "if p_value < 0.05:\n",
        "  print('The difference between the mean weight loss of the two groups is statistically significant! ')\n",
        "else:\n",
        "  print('The null hypothesis cannot be rejected')"
      ],
      "metadata": {
        "colab": {
          "base_uri": "https://localhost:8080/"
        },
        "id": "1NSPjWKroZFC",
        "outputId": "a93b3721-a06a-488e-ae87-3a5a3184d6ca"
      },
      "execution_count": 33,
      "outputs": [
        {
          "output_type": "stream",
          "name": "stdout",
          "text": [
            "The p value is p < 0.001\n",
            "The difference between the mean weight loss of the two groups is statistically significant! \n"
          ]
        }
      ]
    }
  ]
}